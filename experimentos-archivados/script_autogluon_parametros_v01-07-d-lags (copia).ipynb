{
 "cells": [
  {
   "cell_type": "markdown",
   "id": "2ae3d4bc",
   "metadata": {},
   "source": [
    "AutoGluon - Predicción de ventas (tn) por producto para febrero 2020"
   ]
  },
  {
   "cell_type": "code",
   "execution_count": null,
   "id": "6cd9c564",
   "metadata": {},
   "outputs": [],
   "source": [
    "!pip install autogluon.timeseries"
   ]
  },
  {
   "cell_type": "code",
   "execution_count": null,
   "id": "8f52d34a",
   "metadata": {},
   "outputs": [],
   "source": [
    "# Importar librerías\n",
    "import pandas as pd\n",
    "from autogluon.timeseries import TimeSeriesPredictor, TimeSeriesDataFrame"
   ]
  },
  {
   "cell_type": "code",
   "execution_count": null,
   "id": "74387549",
   "metadata": {},
   "outputs": [],
   "source": [
    "# Cargar datasets\n",
    "df_sellin = pd.read_csv(\"../data/sell-in.txt\", sep=\"\\t\")\n",
    "df_productos = pd.read_csv(\"../data/tb_productos.txt\", sep=\"\\t\")\n",
    "\n",
    "# Leer lista de productos a predecir\n",
    "with open(\"../data/product_id_apredecir201912.txt\", \"r\") as f:\n",
    "    product_ids = [int(line.strip()) for line in f if line.strip().isdigit()]\n",
    "\n",
    "# Preprocesamiento\n",
    "# Convertir periodo a datetime\n",
    "df_sellin['timestamp'] = pd.to_datetime(df_sellin['periodo'], format='%Y%m')"
   ]
  },
  {
   "cell_type": "code",
   "execution_count": null,
   "id": "e14417ff",
   "metadata": {},
   "outputs": [],
   "source": [
    "# Filtrar hasta dic 2019 y productos requeridos\n",
    "df_filtered = df_sellin[\n",
    "    (df_sellin['timestamp'] <= '2019-12-01') &\n",
    "    (df_sellin['product_id'].isin(product_ids))\n",
    "]"
   ]
  },
  {
   "cell_type": "code",
   "execution_count": null,
   "id": "bb3c4bac",
   "metadata": {},
   "outputs": [],
   "source": [
    "# Agregar tn por periodo, cliente y producto\n",
    "df_grouped = df_filtered.groupby(['timestamp', 'customer_id', 'product_id'], as_index=False)['tn'].sum()"
   ]
  },
  {
   "cell_type": "code",
   "execution_count": null,
   "id": "3df0c480",
   "metadata": {},
   "outputs": [],
   "source": [
    "# Agregar tn total por periodo y producto\n",
    "df_monthly_product = df_grouped.groupby(['timestamp', 'product_id'], as_index=False)['tn'].sum()"
   ]
  },
  {
   "cell_type": "code",
   "execution_count": null,
   "id": "065d2ca2",
   "metadata": {},
   "outputs": [],
   "source": [
    "# Agregar columna 'item_id' para AutoGluon\n",
    "df_monthly_product['item_id'] = df_monthly_product['product_id']"
   ]
  },
  {
   "cell_type": "code",
   "execution_count": null,
   "id": "eb4e2dfb",
   "metadata": {},
   "outputs": [],
   "source": [
    "# # ⏰ 4. Crear TimeSeriesDataFrame\n",
    "# ts_data = TimeSeriesDataFrame.from_data_frame(\n",
    "#     df_monthly_product,\n",
    "#     id_column='item_id',\n",
    "#     timestamp_column='timestamp'\n",
    "# )\n",
    "# Completar valores faltantes\n",
    "# ts_data = ts_data.fill_missing_values()"
   ]
  },
  {
   "cell_type": "code",
   "execution_count": null,
   "id": "a68d38f9",
   "metadata": {},
   "outputs": [],
   "source": [
    "# --- Inserta este código en una nueva celda después de la celda [9] ---\n",
    "\n",
    "# Hacemos una copia para mantener el dataframe original intacto\n",
    "df_with_lags = df_monthly_product.copy()\n",
    "\n",
    "# Es fundamental ordenar por producto (item_id) y fecha (timestamp)\n",
    "# para que el cálculo de los lags sea correcto para cada serie individual.\n",
    "df_with_lags = df_with_lags.sort_values(by=['item_id', 'timestamp'])\n",
    "\n",
    "# Usamos el método shift() de pandas para crear los lags.\n",
    "# El groupby('item_id') es CRUCIAL para asegurar que los lags se calculan\n",
    "# dentro de cada serie de producto y no se mezclen datos entre productos.\n",
    "print(\"Creando lags de 12 meses...\")\n",
    "for i in range(1, 13):\n",
    "    df_with_lags[f'tn_lag_{i}'] = df_with_lags.groupby('item_id')['tn'].shift(i)\n",
    "\n",
    "# Nota: El método shift() introducirá valores NaN al principio de cada serie\n",
    "# (ej. los primeros 3 meses para el lag 3). Esto es normal.\n",
    "# AutoGluon puede manejar estos NaNs en las covariables.\n",
    "\n",
    "print(\"\\nAsí se ven las primeras filas del DataFrame con los nuevos lags:\")\n",
    "# Mostramos un producto específico para ver los lags en acción\n",
    "print(df_with_lags[df_with_lags['item_id'] == 20001].head())\n",
    "\n",
    "\n",
    "# --- Ahora, modifica tu celda [11] para usar este nuevo DataFrame ---\n",
    "\n",
    "# 4. Crear TimeSeriesDataFrame (usando el dataframe con lags)\n",
    "# AutoGluon detectará automáticamente las columnas 'tn_lag_...' como 'past_covariates'\n",
    "ts_data = TimeSeriesDataFrame.from_data_frame(\n",
    "    df_with_lags,       # <--- ¡Asegúrate de usar el nuevo DataFrame!\n",
    "    id_column='item_id',\n",
    "    timestamp_column='timestamp'\n",
    ")\n",
    "\n",
    "ts_data = ts_data.fill_missing_values()\n"
   ]
  },
  {
   "cell_type": "code",
   "execution_count": null,
   "id": "5b7cc7be",
   "metadata": {},
   "outputs": [],
   "source": [
    "# ⚙️ 5. Definir y entrenar predictor\n",
    "predictor = TimeSeriesPredictor(\n",
    "    prediction_length=2,\n",
    "    target='tn',\n",
    "    freq='MS'  # Frecuencia mensual (Month Start), \n",
    ")\n",
    "\n",
    "predictor.fit(ts_data, num_val_windows=2, time_limit=60*60*4)"
   ]
  },
  {
   "cell_type": "code",
   "execution_count": null,
   "id": "2c27fefb",
   "metadata": {},
   "outputs": [],
   "source": [
    "# 🔮 6. Generar predicción\n",
    "forecast = predictor.predict(ts_data)"
   ]
  },
  {
   "cell_type": "code",
   "execution_count": null,
   "id": "57205cb3",
   "metadata": {},
   "outputs": [],
   "source": [
    "# Extraer predicción media y filtrar febrero 2020\n",
    "forecast_mean = forecast['mean'].reset_index()\n",
    "print(forecast_mean.columns)"
   ]
  },
  {
   "cell_type": "code",
   "execution_count": null,
   "id": "d62a0982",
   "metadata": {},
   "outputs": [],
   "source": [
    "# Tomar solo item_id y la predicción 'mean'\n",
    "resultado = forecast['mean'].reset_index()[['item_id', 'mean']]\n",
    "resultado.columns = ['product_id', 'tn']\n",
    "\n",
    "# Filtrar solo febrero 2020\n",
    "resultado = forecast['mean'].reset_index()\n",
    "resultado = resultado[resultado['timestamp'] == '2020-02-01']\n",
    "\n",
    "# Renombrar columnas\n",
    "resultado = resultado[['item_id', 'mean']]\n",
    "resultado.columns = ['product_id', 'tn']\n"
   ]
  },
  {
   "cell_type": "code",
   "execution_count": null,
   "id": "81a9323c",
   "metadata": {},
   "outputs": [],
   "source": [
    "# 💾 7. Guardar archivo\n",
    "resultado.to_csv(\"predicciones_febrero2020_fecha_01_07-autogluon-lags.csv\", index=False)\n",
    "resultado.head()"
   ]
  },
  {
   "cell_type": "code",
   "execution_count": null,
   "id": "0987ba08",
   "metadata": {},
   "outputs": [],
   "source": [
    "# Mostrar los mejores modelos del predictor\n",
    "print(\"Mejores modelos entrenados:\")\n",
    "print(predictor.leaderboard())"
   ]
  }
 ],
 "metadata": {
  "kernelspec": {
   "display_name": ".venv",
   "language": "python",
   "name": "python3"
  },
  "language_info": {
   "codemirror_mode": {
    "name": "ipython",
    "version": 3
   },
   "file_extension": ".py",
   "mimetype": "text/x-python",
   "name": "python",
   "nbconvert_exporter": "python",
   "pygments_lexer": "ipython3",
   "version": "3.12.3"
  }
 },
 "nbformat": 4,
 "nbformat_minor": 5
}
