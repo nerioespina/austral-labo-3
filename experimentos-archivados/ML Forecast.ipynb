{
 "cells": [
  {
   "cell_type": "markdown",
   "metadata": {},
   "source": [
    "# Construcción del dataset"
   ]
  },
  {
   "cell_type": "code",
   "execution_count": null,
   "metadata": {},
   "outputs": [],
   "source": [
    "import pandas as pd\n",
    "from mlforecast import MLForecast\n",
    "from lightgbm import LGBMRegressor\n",
    "\n",
    "from sklearn.metrics import mean_absolute_error, mean_squared_error, mean_absolute_percentage_error, r2_score\n",
    "import numpy as np\n",
    "\n",
    "from window_ops.rolling import rolling_mean\n",
    "import optuna\n",
    "from sklearn.model_selection import TimeSeriesSplit\n",
    "from utilsforecast.feature_engineering import fourier"
   ]
  },
  {
   "cell_type": "code",
   "execution_count": null,
   "metadata": {},
   "outputs": [],
   "source": [
    "df = pd.read_csv('../data/sell-in.txt', sep='\\t', encoding='utf-8')\n",
    "df.head()"
   ]
  },
  {
   "cell_type": "code",
   "execution_count": null,
   "metadata": {},
   "outputs": [],
   "source": [
    "df_productos_predecir = pd.read_csv('../data/product_id_apredecir201912.txt', sep='\\t', encoding='utf-8')\n",
    "df_productos_predecir.head()"
   ]
  },
  {
   "cell_type": "code",
   "execution_count": null,
   "metadata": {},
   "outputs": [],
   "source": [
    "df['periodo'].sort_values().unique()"
   ]
  },
  {
   "cell_type": "code",
   "execution_count": null,
   "metadata": {},
   "outputs": [],
   "source": [
    "df_pivot = df.pivot_table(\n",
    "    index=['product_id', 'customer_id'],\n",
    "    columns='periodo',\n",
    "    values='tn',\n",
    "    aggfunc='sum',\n",
    "    fill_value=None\n",
    ")\n",
    "df_pivot = df_pivot.reset_index()\n",
    "df_pivot.columns.name = None\n",
    "df_pivot.head()"
   ]
  },
  {
   "cell_type": "code",
   "execution_count": null,
   "metadata": {},
   "outputs": [],
   "source": [
    "# Remove from df_pivot the products that are not in df_productos_predecir\n",
    "df_pivot = df_pivot[df_pivot['product_id'].isin(df_productos_predecir['product_id'])]"
   ]
  },
  {
   "cell_type": "code",
   "execution_count": null,
   "metadata": {},
   "outputs": [],
   "source": [
    "# df_mlforecast = df_pivot[df_pivot['customer_id'] == 10001].copy()\n",
    "df_mlforecast = df_pivot.copy()"
   ]
  },
  {
   "cell_type": "code",
   "execution_count": null,
   "metadata": {},
   "outputs": [],
   "source": [
    "df_mlforecast.head()"
   ]
  },
  {
   "cell_type": "code",
   "execution_count": null,
   "metadata": {},
   "outputs": [],
   "source": [
    "df_mlforecast.shape"
   ]
  },
  {
   "cell_type": "code",
   "execution_count": null,
   "metadata": {},
   "outputs": [],
   "source": [
    "# --- PASO 1: TRANSFORMACIÓN DE DATOS A FORMATO LARGO ---\n",
    "# Este es el formato conveniente que usaremos en ambos casos.\n",
    "print(\"\\n--- 1. Transformando datos a formato largo ---\")\n",
    "df_long = df_mlforecast.melt(\n",
    "    id_vars=['product_id', 'customer_id'],\n",
    "    var_name='periodo',\n",
    "    value_name='y' # MLForecast usa 'y' como nombre de la variable objetivo\n",
    ")\n",
    "\n",
    "df_long.head()"
   ]
  },
  {
   "cell_type": "code",
   "execution_count": null,
   "metadata": {},
   "outputs": [],
   "source": [
    "FECHA_CORTE = '2019-10-01'\n",
    "horizonte_prediccion = 2\n",
    "# Lista de product_id únicos a procesar\n",
    "product_ids = df_mlforecast['product_id'].unique()\n",
    "\n",
    "# DataFrame para acumular resultados finales\n",
    "df_pred_final = pd.DataFrame()\n",
    "\n",
    "for pid in product_ids:\n",
    "    # 1. Filtrar datos para el product_id actual\n",
    "    df_pivot_prod = df_pivot[df_pivot['product_id'] == pid]\n",
    "    if df_pivot_prod.empty:\n",
    "        continue\n",
    "\n",
    "    # 2. Transformar a formato largo\n",
    "    df_long_prod = df_pivot_prod.melt(\n",
    "        id_vars=['product_id', 'customer_id'],\n",
    "        var_name='periodo',\n",
    "        value_name='y'\n",
    "    )\n",
    "    df_long_prod = df_long_prod.fillna(0)\n",
    "    df_long_prod['unique_id'] = df_long_prod['product_id'].astype(str) + \"_\" + df_long_prod['customer_id'].astype(str)\n",
    "    df_long_prod['ds'] = pd.to_datetime(df_long_prod['periodo'], format='%Y%m')\n",
    "    df_final_prod = df_long_prod[['unique_id', 'ds', 'y']].sort_values(by=['unique_id', 'ds']).reset_index(drop=True)\n",
    "\n",
    "    # 3. Dividir en entrenamiento y validación\n",
    "    df_final_prod = df_final_prod.loc[:, ~df_final_prod.columns.duplicated()]\n",
    "    df_entrenamiento_prod = df_final_prod[df_final_prod['ds'] <= FECHA_CORTE]\n",
    "    # Entrenar modelo\n",
    "    fcst_prod = MLForecast(\n",
    "        models=LGBMRegressor(random_state=42, n_estimators=100),\n",
    "        freq='MS',\n",
    "        lags=[1, 2, 3, 6, 12],\n",
    "        date_features=['month', 'year'],\n",
    "    )\n",
    "    fcst_prod.fit(df_entrenamiento_prod, static_features=[])\n",
    "\n",
    "    # 4. Predecir 2 pasos adelante (201911 y 201912)\n",
    "    pred_prod = fcst_prod.predict(h=horizonte_prediccion)\n",
    "    pred_prod['product_id'] = pid\n",
    "\n",
    "    # 5. Filtrar solo 201912 y extraer customer_id\n",
    "    pred_prod_201912 = pred_prod[pred_prod['ds'] == '2019-12-01'].copy()\n",
    "    pred_prod_201912['customer_id'] = pred_prod_201912['unique_id'].str.split('_').str[1].astype(int)\n",
    "    pred_prod_201912.rename(columns={'LGBMRegressor': 'tn'}, inplace=True)\n",
    "\n",
    "    # 6. Acumular resultados\n",
    "    df_pred_final = pd.concat([df_pred_final, pred_prod_201912[['product_id', 'customer_id', 'tn']]], ignore_index=True)\n",
    "\n",
    "# Sumar tn por producto\n",
    "df_pred_sum = df_pred_final.groupby('product_id', as_index=False)['tn'].sum()\n",
    "print(df_pred_sum)"
   ]
  },
  {
   "cell_type": "code",
   "execution_count": null,
   "metadata": {},
   "outputs": [],
   "source": [
    "df_pred_sum.head()"
   ]
  },
  {
   "cell_type": "code",
   "execution_count": null,
   "metadata": {},
   "outputs": [],
   "source": [
    "# 1. Extraer los valores reales de df_long para 201912 y sumarlos por producto\n",
    "df_validacion = (\n",
    "    df_long[df_long['periodo'] == 201912]  # sin comillas, como int\n",
    "    .groupby('product_id', as_index=False)['y']\n",
    "    .sum()\n",
    "    .rename(columns={'y': 'tn_real'})\n",
    ")\n",
    "\n",
    "# 2. Unir con las predicciones\n",
    "df_eval = df_validacion.merge(df_pred_sum, on='product_id', how='inner')\n",
    "\n",
    "y_real = df_eval['tn_real']\n",
    "y_pred = df_eval['tn']\n",
    "\n",
    "# 3. Calcular las métricas\n",
    "mae = mean_absolute_error(y_real, y_pred)\n",
    "mse = mean_squared_error(y_real, y_pred)\n",
    "rmse = np.sqrt(mse)\n",
    "mape = mean_absolute_percentage_error(y_real, y_pred)\n",
    "r2 = r2_score(y_real, y_pred)\n",
    "\n",
    "# 4. Imprimir resultados\n",
    "print(\"\\n\" + \"=\"*40)\n",
    "print(\" MÉTRICAS DE RENDIMIENTO DEL MODELO\")\n",
    "print(\"=\"*40)\n",
    "print(f\"Error Absoluto Medio (MAE):       {mae:.2f} unidades\")\n",
    "print(f\"Raíz del Error Cuadrático (RMSE): {rmse:.2f} unidades\")\n",
    "print(f\"Error Porcentual Absoluto (MAPE): {mape:.2%}\")\n",
    "print(f\"Coeficiente de Determinación (R²): {r2:.2f}\")\n",
    "print(\"=\"*40)\n",
    "\n",
    "print(\"\\nInterpretación:\")\n",
    "print(f\"- En promedio, el modelo se equivoca en {mae:.2f} toneladas (o la unidad que estés usando).\")\n",
    "print(f\"- El error porcentual promedio es de {mape:.2%}.\")\n",
    "print(f\"- Un R² de {r2:.2f} indica qué proporción de la varianza de los datos es explicada por el modelo (más cercano a 1 es mejor).\")"
   ]
  },
  {
   "cell_type": "code",
   "execution_count": null,
   "metadata": {},
   "outputs": [],
   "source": [
    "FECHA_CORTE_FINAL = '2019-12-01'\n",
    "horizonte_prediccion_final = 2\n",
    "df_pred_final_202002 = pd.DataFrame()\n",
    "\n",
    "product_ids = df_mlforecast['product_id'].unique()\n",
    "\n",
    "for pid in product_ids:\n",
    "    df_pivot_prod = df_pivot[df_pivot['product_id'] == pid]\n",
    "    if df_pivot_prod.empty:\n",
    "        continue\n",
    "\n",
    "    df_long_prod = df_pivot_prod.melt(\n",
    "        id_vars=['product_id', 'customer_id'],\n",
    "        var_name='periodo',\n",
    "        value_name='y'\n",
    "    )\n",
    "    df_long_prod = df_long_prod.fillna(0)\n",
    "    df_long_prod['unique_id'] = df_long_prod['product_id'].astype(str) + \"_\" + df_long_prod['customer_id'].astype(str)\n",
    "    df_long_prod['ds'] = pd.to_datetime(df_long_prod['periodo'], format='%Y%m')\n",
    "    df_final_prod = df_long_prod[['unique_id', 'ds', 'y']].sort_values(by=['unique_id', 'ds']).reset_index(drop=True)\n",
    "\n",
    "    df_final_prod = df_final_prod.loc[:, ~df_final_prod.columns.duplicated()]\n",
    "    df_entrenamiento_prod = df_final_prod[df_final_prod['ds'] <= FECHA_CORTE_FINAL]\n",
    "\n",
    "    fcst_prod = MLForecast(\n",
    "        models=LGBMRegressor(random_state=42, n_estimators=100),\n",
    "        freq='MS',\n",
    "        lags=[1, 2, 3, 6, 12],\n",
    "        date_features=['month', 'year'],\n",
    "    )\n",
    "    fcst_prod.fit(df_entrenamiento_prod, static_features=[])\n",
    "\n",
    "    pred_prod = fcst_prod.predict(h=horizonte_prediccion_final)\n",
    "    pred_prod['product_id'] = pid\n",
    "\n",
    "    # Filtrar solo 2020-02-01 y extraer customer_id\n",
    "    pred_prod_202002 = pred_prod[pred_prod['ds'] == '2020-02-01'].copy()\n",
    "    pred_prod_202002['customer_id'] = pred_prod_202002['unique_id'].str.split('_').str[1].astype(int)\n",
    "    pred_prod_202002.rename(columns={'LGBMRegressor': 'tn'}, inplace=True)\n",
    "\n",
    "    df_pred_final_202002 = pd.concat([df_pred_final_202002, pred_prod_202002[['product_id', 'customer_id', 'tn']]], ignore_index=True)\n",
    "\n",
    "# Sumar tn por producto para 202002\n",
    "df_pred_sum_202002 = df_pred_final_202002.groupby('product_id', as_index=False)['tn'].sum()\n",
    "print(df_pred_sum_202002)"
   ]
  },
  {
   "cell_type": "code",
   "execution_count": null,
   "metadata": {},
   "outputs": [],
   "source": [
    "df_pred_sum_202002.head()"
   ]
  },
  {
   "cell_type": "code",
   "execution_count": null,
   "metadata": {},
   "outputs": [],
   "source": [
    "df_pred_sum_202002.shape"
   ]
  },
  {
   "cell_type": "code",
   "execution_count": null,
   "metadata": {},
   "outputs": [],
   "source": [
    "df_pred_sum_202002.to_csv('prediccion_tn_por_producto_3.csv', index=False)"
   ]
  }
 ],
 "metadata": {
  "kernelspec": {
   "display_name": "Python 3",
   "language": "python",
   "name": "python3"
  },
  "language_info": {
   "name": "python",
   "version": ""
  }
 },
 "nbformat": 4,
 "nbformat_minor": 2
}
