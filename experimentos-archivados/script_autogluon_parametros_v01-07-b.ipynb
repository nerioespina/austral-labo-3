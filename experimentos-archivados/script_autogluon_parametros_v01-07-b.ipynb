{
 "cells": [
  {
   "cell_type": "markdown",
   "id": "2ae3d4bc",
   "metadata": {},
   "source": [
    "AutoGluon - Predicción de ventas (tn) por producto para febrero 2020"
   ]
  },
  {
   "cell_type": "code",
   "execution_count": null,
   "id": "6cd9c564",
   "metadata": {},
   "outputs": [
    {
     "name": "stdout",
     "output_type": "stream",
     "text": [
      "Requirement already satisfied: autogluon.timeseries in /home/nespina/Documentos/austral/labo_3/.venv/lib/python3.12/site-packages (1.3.1)\n",
      "Requirement already satisfied: joblib<2,>=1.1 in /home/nespina/Documentos/austral/labo_3/.venv/lib/python3.12/site-packages (from autogluon.timeseries) (1.5.1)\n",
      "Requirement already satisfied: numpy<2.3.0,>=1.25.0 in /home/nespina/Documentos/austral/labo_3/.venv/lib/python3.12/site-packages (from autogluon.timeseries) (1.26.4)\n",
      "Requirement already satisfied: scipy<1.16,>=1.5.4 in /home/nespina/Documentos/austral/labo_3/.venv/lib/python3.12/site-packages (from autogluon.timeseries) (1.15.3)\n",
      "Requirement already satisfied: pandas<2.3.0,>=2.0.0 in /home/nespina/Documentos/austral/labo_3/.venv/lib/python3.12/site-packages (from autogluon.timeseries) (2.2.3)\n",
      "Requirement already satisfied: torch<2.7,>=2.2 in /home/nespina/Documentos/austral/labo_3/.venv/lib/python3.12/site-packages (from autogluon.timeseries) (2.6.0)\n",
      "Requirement already satisfied: lightning<2.7,>=2.2 in /home/nespina/Documentos/austral/labo_3/.venv/lib/python3.12/site-packages (from autogluon.timeseries) (2.5.2)\n",
      "Requirement already satisfied: pytorch-lightning in /home/nespina/Documentos/austral/labo_3/.venv/lib/python3.12/site-packages (from autogluon.timeseries) (2.5.2)\n",
      "Requirement already satisfied: transformers<4.50,>=4.38.0 in /home/nespina/Documentos/austral/labo_3/.venv/lib/python3.12/site-packages (from transformers[sentencepiece]<4.50,>=4.38.0->autogluon.timeseries) (4.49.0)\n",
      "Requirement already satisfied: accelerate<2.0,>=0.34.0 in /home/nespina/Documentos/austral/labo_3/.venv/lib/python3.12/site-packages (from autogluon.timeseries) (1.8.1)\n",
      "Requirement already satisfied: gluonts<0.17,>=0.15.0 in /home/nespina/Documentos/austral/labo_3/.venv/lib/python3.12/site-packages (from autogluon.timeseries) (0.16.2)\n",
      "Requirement already satisfied: networkx<4,>=3.0 in /home/nespina/Documentos/austral/labo_3/.venv/lib/python3.12/site-packages (from autogluon.timeseries) (3.5)\n",
      "Requirement already satisfied: statsforecast<2.0.2,>=1.7.0 in /home/nespina/Documentos/austral/labo_3/.venv/lib/python3.12/site-packages (from autogluon.timeseries) (2.0.1)\n",
      "Requirement already satisfied: mlforecast<0.14,>0.13 in /home/nespina/Documentos/austral/labo_3/.venv/lib/python3.12/site-packages (from autogluon.timeseries) (0.13.6)\n",
      "Requirement already satisfied: utilsforecast<0.2.11,>=0.2.3 in /home/nespina/Documentos/austral/labo_3/.venv/lib/python3.12/site-packages (from autogluon.timeseries) (0.2.10)\n",
      "Requirement already satisfied: coreforecast<0.0.16,>=0.0.12 in /home/nespina/Documentos/austral/labo_3/.venv/lib/python3.12/site-packages (from autogluon.timeseries) (0.0.15)\n",
      "Requirement already satisfied: fugue>=0.9.0 in /home/nespina/Documentos/austral/labo_3/.venv/lib/python3.12/site-packages (from autogluon.timeseries) (0.9.1)\n",
      "Requirement already satisfied: tqdm<5,>=4.38 in /home/nespina/Documentos/austral/labo_3/.venv/lib/python3.12/site-packages (from autogluon.timeseries) (4.67.1)\n",
      "Requirement already satisfied: orjson~=3.9 in /home/nespina/Documentos/austral/labo_3/.venv/lib/python3.12/site-packages (from autogluon.timeseries) (3.10.18)\n",
      "Requirement already satisfied: tensorboard<3,>=2.9 in /home/nespina/Documentos/austral/labo_3/.venv/lib/python3.12/site-packages (from autogluon.timeseries) (2.19.0)\n",
      "Requirement already satisfied: autogluon.core==1.3.1 in /home/nespina/Documentos/austral/labo_3/.venv/lib/python3.12/site-packages (from autogluon.core[raytune]==1.3.1->autogluon.timeseries) (1.3.1)\n",
      "Requirement already satisfied: autogluon.common==1.3.1 in /home/nespina/Documentos/austral/labo_3/.venv/lib/python3.12/site-packages (from autogluon.timeseries) (1.3.1)\n",
      "Requirement already satisfied: autogluon.features==1.3.1 in /home/nespina/Documentos/austral/labo_3/.venv/lib/python3.12/site-packages (from autogluon.timeseries) (1.3.1)\n",
      "Requirement already satisfied: autogluon.tabular==1.3.1 in /home/nespina/Documentos/austral/labo_3/.venv/lib/python3.12/site-packages (from autogluon.tabular[catboost,lightgbm,xgboost]==1.3.1->autogluon.timeseries) (1.3.1)\n",
      "Requirement already satisfied: boto3<2,>=1.10 in /home/nespina/Documentos/austral/labo_3/.venv/lib/python3.12/site-packages (from autogluon.common==1.3.1->autogluon.timeseries) (1.39.3)\n",
      "Requirement already satisfied: psutil<7.1.0,>=5.7.3 in /home/nespina/Documentos/austral/labo_3/.venv/lib/python3.12/site-packages (from autogluon.common==1.3.1->autogluon.timeseries) (7.0.0)\n",
      "Requirement already satisfied: scikit-learn<1.7.0,>=1.4.0 in /home/nespina/Documentos/austral/labo_3/.venv/lib/python3.12/site-packages (from autogluon.core==1.3.1->autogluon.core[raytune]==1.3.1->autogluon.timeseries) (1.6.1)\n",
      "Requirement already satisfied: requests in /home/nespina/Documentos/austral/labo_3/.venv/lib/python3.12/site-packages (from autogluon.core==1.3.1->autogluon.core[raytune]==1.3.1->autogluon.timeseries) (2.32.4)\n",
      "Requirement already satisfied: matplotlib<3.11,>=3.7.0 in /home/nespina/Documentos/austral/labo_3/.venv/lib/python3.12/site-packages (from autogluon.core==1.3.1->autogluon.core[raytune]==1.3.1->autogluon.timeseries) (3.10.3)\n",
      "Requirement already satisfied: pyarrow>=15.0.0 in /home/nespina/Documentos/austral/labo_3/.venv/lib/python3.12/site-packages (from autogluon.core[raytune]==1.3.1->autogluon.timeseries) (20.0.0)\n",
      "Requirement already satisfied: ray<2.45,>=2.10.0 in /home/nespina/Documentos/austral/labo_3/.venv/lib/python3.12/site-packages (from ray[default,tune]<2.45,>=2.10.0; extra == \"raytune\"->autogluon.core[raytune]==1.3.1->autogluon.timeseries) (2.44.1)\n",
      "Requirement already satisfied: hyperopt<0.2.8,>=0.2.7 in /home/nespina/Documentos/austral/labo_3/.venv/lib/python3.12/site-packages (from autogluon.core[raytune]==1.3.1->autogluon.timeseries) (0.2.7)\n",
      "Requirement already satisfied: catboost<1.3,>=1.2 in /home/nespina/Documentos/austral/labo_3/.venv/lib/python3.12/site-packages (from autogluon.tabular[catboost,lightgbm,xgboost]==1.3.1->autogluon.timeseries) (1.2.8)\n",
      "Requirement already satisfied: lightgbm<4.7,>=4.0 in /home/nespina/Documentos/austral/labo_3/.venv/lib/python3.12/site-packages (from autogluon.tabular[catboost,lightgbm,xgboost]==1.3.1->autogluon.timeseries) (4.6.0)\n",
      "Requirement already satisfied: xgboost<3.1,>=2.0 in /home/nespina/Documentos/austral/labo_3/.venv/lib/python3.12/site-packages (from autogluon.tabular[catboost,lightgbm,xgboost]==1.3.1->autogluon.timeseries) (3.0.2)\n",
      "Requirement already satisfied: packaging>=20.0 in /home/nespina/Documentos/austral/labo_3/.venv/lib/python3.12/site-packages (from accelerate<2.0,>=0.34.0->autogluon.timeseries) (25.0)\n",
      "Requirement already satisfied: pyyaml in /home/nespina/Documentos/austral/labo_3/.venv/lib/python3.12/site-packages (from accelerate<2.0,>=0.34.0->autogluon.timeseries) (6.0.2)\n",
      "Requirement already satisfied: huggingface_hub>=0.21.0 in /home/nespina/Documentos/austral/labo_3/.venv/lib/python3.12/site-packages (from accelerate<2.0,>=0.34.0->autogluon.timeseries) (0.33.2)\n",
      "Requirement already satisfied: safetensors>=0.4.3 in /home/nespina/Documentos/austral/labo_3/.venv/lib/python3.12/site-packages (from accelerate<2.0,>=0.34.0->autogluon.timeseries) (0.5.3)\n",
      "Requirement already satisfied: triad>=0.9.7 in /home/nespina/Documentos/austral/labo_3/.venv/lib/python3.12/site-packages (from fugue>=0.9.0->autogluon.timeseries) (0.9.8)\n",
      "Requirement already satisfied: adagio>=0.2.4 in /home/nespina/Documentos/austral/labo_3/.venv/lib/python3.12/site-packages (from fugue>=0.9.0->autogluon.timeseries) (0.2.6)\n",
      "Requirement already satisfied: pydantic<3,>=1.7 in /home/nespina/Documentos/austral/labo_3/.venv/lib/python3.12/site-packages (from gluonts<0.17,>=0.15.0->autogluon.timeseries) (2.11.7)\n",
      "Requirement already satisfied: toolz~=0.10 in /home/nespina/Documentos/austral/labo_3/.venv/lib/python3.12/site-packages (from gluonts<0.17,>=0.15.0->autogluon.timeseries) (0.12.1)\n",
      "Requirement already satisfied: typing-extensions~=4.0 in /home/nespina/Documentos/austral/labo_3/.venv/lib/python3.12/site-packages (from gluonts<0.17,>=0.15.0->autogluon.timeseries) (4.14.0)\n",
      "Requirement already satisfied: fsspec<2027.0,>=2022.5.0 in /home/nespina/Documentos/austral/labo_3/.venv/lib/python3.12/site-packages (from fsspec[http]<2027.0,>=2022.5.0->lightning<2.7,>=2.2->autogluon.timeseries) (2025.5.1)\n",
      "Requirement already satisfied: lightning-utilities<2.0,>=0.10.0 in /home/nespina/Documentos/austral/labo_3/.venv/lib/python3.12/site-packages (from lightning<2.7,>=2.2->autogluon.timeseries) (0.14.3)\n",
      "Requirement already satisfied: torchmetrics<3.0,>=0.7.0 in /home/nespina/Documentos/austral/labo_3/.venv/lib/python3.12/site-packages (from lightning<2.7,>=2.2->autogluon.timeseries) (1.7.4)\n",
      "Requirement already satisfied: cloudpickle in /home/nespina/Documentos/austral/labo_3/.venv/lib/python3.12/site-packages (from mlforecast<0.14,>0.13->autogluon.timeseries) (3.1.1)\n",
      "Requirement already satisfied: numba in /home/nespina/Documentos/austral/labo_3/.venv/lib/python3.12/site-packages (from mlforecast<0.14,>0.13->autogluon.timeseries) (0.61.2)\n",
      "Requirement already satisfied: optuna in /home/nespina/Documentos/austral/labo_3/.venv/lib/python3.12/site-packages (from mlforecast<0.14,>0.13->autogluon.timeseries) (4.4.0)\n",
      "Requirement already satisfied: window-ops in /home/nespina/Documentos/austral/labo_3/.venv/lib/python3.12/site-packages (from mlforecast<0.14,>0.13->autogluon.timeseries) (0.0.15)\n",
      "Requirement already satisfied: python-dateutil>=2.8.2 in /home/nespina/Documentos/austral/labo_3/.venv/lib/python3.12/site-packages (from pandas<2.3.0,>=2.0.0->autogluon.timeseries) (2.9.0.post0)\n",
      "Requirement already satisfied: pytz>=2020.1 in /home/nespina/Documentos/austral/labo_3/.venv/lib/python3.12/site-packages (from pandas<2.3.0,>=2.0.0->autogluon.timeseries) (2025.2)\n",
      "Requirement already satisfied: tzdata>=2022.7 in /home/nespina/Documentos/austral/labo_3/.venv/lib/python3.12/site-packages (from pandas<2.3.0,>=2.0.0->autogluon.timeseries) (2025.2)\n",
      "Requirement already satisfied: statsmodels>=0.13.2 in /home/nespina/Documentos/austral/labo_3/.venv/lib/python3.12/site-packages (from statsforecast<2.0.2,>=1.7.0->autogluon.timeseries) (0.14.5)\n",
      "Requirement already satisfied: threadpoolctl>=3 in /home/nespina/Documentos/austral/labo_3/.venv/lib/python3.12/site-packages (from statsforecast<2.0.2,>=1.7.0->autogluon.timeseries) (3.6.0)\n",
      "Requirement already satisfied: absl-py>=0.4 in /home/nespina/Documentos/austral/labo_3/.venv/lib/python3.12/site-packages (from tensorboard<3,>=2.9->autogluon.timeseries) (2.3.1)\n",
      "Requirement already satisfied: grpcio>=1.48.2 in /home/nespina/Documentos/austral/labo_3/.venv/lib/python3.12/site-packages (from tensorboard<3,>=2.9->autogluon.timeseries) (1.73.1)\n",
      "Requirement already satisfied: markdown>=2.6.8 in /home/nespina/Documentos/austral/labo_3/.venv/lib/python3.12/site-packages (from tensorboard<3,>=2.9->autogluon.timeseries) (3.8.2)\n",
      "Requirement already satisfied: protobuf!=4.24.0,>=3.19.6 in /home/nespina/Documentos/austral/labo_3/.venv/lib/python3.12/site-packages (from tensorboard<3,>=2.9->autogluon.timeseries) (6.31.1)\n",
      "Requirement already satisfied: setuptools>=41.0.0 in /home/nespina/Documentos/austral/labo_3/.venv/lib/python3.12/site-packages (from tensorboard<3,>=2.9->autogluon.timeseries) (80.9.0)\n",
      "Requirement already satisfied: six>1.9 in /home/nespina/Documentos/austral/labo_3/.venv/lib/python3.12/site-packages (from tensorboard<3,>=2.9->autogluon.timeseries) (1.17.0)\n",
      "Requirement already satisfied: tensorboard-data-server<0.8.0,>=0.7.0 in /home/nespina/Documentos/austral/labo_3/.venv/lib/python3.12/site-packages (from tensorboard<3,>=2.9->autogluon.timeseries) (0.7.2)\n",
      "Requirement already satisfied: werkzeug>=1.0.1 in /home/nespina/Documentos/austral/labo_3/.venv/lib/python3.12/site-packages (from tensorboard<3,>=2.9->autogluon.timeseries) (3.1.3)\n",
      "Requirement already satisfied: filelock in /home/nespina/Documentos/austral/labo_3/.venv/lib/python3.12/site-packages (from torch<2.7,>=2.2->autogluon.timeseries) (3.18.0)\n",
      "Requirement already satisfied: jinja2 in /home/nespina/Documentos/austral/labo_3/.venv/lib/python3.12/site-packages (from torch<2.7,>=2.2->autogluon.timeseries) (3.1.6)\n",
      "Requirement already satisfied: nvidia-cuda-nvrtc-cu12==12.4.127 in /home/nespina/Documentos/austral/labo_3/.venv/lib/python3.12/site-packages (from torch<2.7,>=2.2->autogluon.timeseries) (12.4.127)\n",
      "Requirement already satisfied: nvidia-cuda-runtime-cu12==12.4.127 in /home/nespina/Documentos/austral/labo_3/.venv/lib/python3.12/site-packages (from torch<2.7,>=2.2->autogluon.timeseries) (12.4.127)\n",
      "Requirement already satisfied: nvidia-cuda-cupti-cu12==12.4.127 in /home/nespina/Documentos/austral/labo_3/.venv/lib/python3.12/site-packages (from torch<2.7,>=2.2->autogluon.timeseries) (12.4.127)\n",
      "Requirement already satisfied: nvidia-cudnn-cu12==9.1.0.70 in /home/nespina/Documentos/austral/labo_3/.venv/lib/python3.12/site-packages (from torch<2.7,>=2.2->autogluon.timeseries) (9.1.0.70)\n",
      "Requirement already satisfied: nvidia-cublas-cu12==12.4.5.8 in /home/nespina/Documentos/austral/labo_3/.venv/lib/python3.12/site-packages (from torch<2.7,>=2.2->autogluon.timeseries) (12.4.5.8)\n",
      "Requirement already satisfied: nvidia-cufft-cu12==11.2.1.3 in /home/nespina/Documentos/austral/labo_3/.venv/lib/python3.12/site-packages (from torch<2.7,>=2.2->autogluon.timeseries) (11.2.1.3)\n",
      "Requirement already satisfied: nvidia-curand-cu12==10.3.5.147 in /home/nespina/Documentos/austral/labo_3/.venv/lib/python3.12/site-packages (from torch<2.7,>=2.2->autogluon.timeseries) (10.3.5.147)\n",
      "Requirement already satisfied: nvidia-cusolver-cu12==11.6.1.9 in /home/nespina/Documentos/austral/labo_3/.venv/lib/python3.12/site-packages (from torch<2.7,>=2.2->autogluon.timeseries) (11.6.1.9)\n",
      "Requirement already satisfied: nvidia-cusparse-cu12==12.3.1.170 in /home/nespina/Documentos/austral/labo_3/.venv/lib/python3.12/site-packages (from torch<2.7,>=2.2->autogluon.timeseries) (12.3.1.170)\n",
      "Requirement already satisfied: nvidia-cusparselt-cu12==0.6.2 in /home/nespina/Documentos/austral/labo_3/.venv/lib/python3.12/site-packages (from torch<2.7,>=2.2->autogluon.timeseries) (0.6.2)\n",
      "Requirement already satisfied: nvidia-nccl-cu12==2.21.5 in /home/nespina/Documentos/austral/labo_3/.venv/lib/python3.12/site-packages (from torch<2.7,>=2.2->autogluon.timeseries) (2.21.5)\n",
      "Requirement already satisfied: nvidia-nvtx-cu12==12.4.127 in /home/nespina/Documentos/austral/labo_3/.venv/lib/python3.12/site-packages (from torch<2.7,>=2.2->autogluon.timeseries) (12.4.127)\n",
      "Requirement already satisfied: nvidia-nvjitlink-cu12==12.4.127 in /home/nespina/Documentos/austral/labo_3/.venv/lib/python3.12/site-packages (from torch<2.7,>=2.2->autogluon.timeseries) (12.4.127)\n",
      "Requirement already satisfied: triton==3.2.0 in /home/nespina/Documentos/austral/labo_3/.venv/lib/python3.12/site-packages (from torch<2.7,>=2.2->autogluon.timeseries) (3.2.0)\n",
      "Requirement already satisfied: sympy==1.13.1 in /home/nespina/Documentos/austral/labo_3/.venv/lib/python3.12/site-packages (from torch<2.7,>=2.2->autogluon.timeseries) (1.13.1)\n",
      "Requirement already satisfied: mpmath<1.4,>=1.1.0 in /home/nespina/Documentos/austral/labo_3/.venv/lib/python3.12/site-packages (from sympy==1.13.1->torch<2.7,>=2.2->autogluon.timeseries) (1.3.0)\n",
      "Requirement already satisfied: regex!=2019.12.17 in /home/nespina/Documentos/austral/labo_3/.venv/lib/python3.12/site-packages (from transformers<4.50,>=4.38.0->transformers[sentencepiece]<4.50,>=4.38.0->autogluon.timeseries) (2024.11.6)\n",
      "Requirement already satisfied: tokenizers<0.22,>=0.21 in /home/nespina/Documentos/austral/labo_3/.venv/lib/python3.12/site-packages (from transformers<4.50,>=4.38.0->transformers[sentencepiece]<4.50,>=4.38.0->autogluon.timeseries) (0.21.2)\n",
      "Requirement already satisfied: sentencepiece!=0.1.92,>=0.1.91 in /home/nespina/Documentos/austral/labo_3/.venv/lib/python3.12/site-packages (from transformers[sentencepiece]<4.50,>=4.38.0->autogluon.timeseries) (0.2.0)\n",
      "Requirement already satisfied: botocore<1.40.0,>=1.39.3 in /home/nespina/Documentos/austral/labo_3/.venv/lib/python3.12/site-packages (from boto3<2,>=1.10->autogluon.common==1.3.1->autogluon.timeseries) (1.39.3)\n",
      "Requirement already satisfied: jmespath<2.0.0,>=0.7.1 in /home/nespina/Documentos/austral/labo_3/.venv/lib/python3.12/site-packages (from boto3<2,>=1.10->autogluon.common==1.3.1->autogluon.timeseries) (1.0.1)\n",
      "Requirement already satisfied: s3transfer<0.14.0,>=0.13.0 in /home/nespina/Documentos/austral/labo_3/.venv/lib/python3.12/site-packages (from boto3<2,>=1.10->autogluon.common==1.3.1->autogluon.timeseries) (0.13.0)\n",
      "Requirement already satisfied: graphviz in /home/nespina/Documentos/austral/labo_3/.venv/lib/python3.12/site-packages (from catboost<1.3,>=1.2->autogluon.tabular[catboost,lightgbm,xgboost]==1.3.1->autogluon.timeseries) (0.21)\n",
      "Requirement already satisfied: plotly in /home/nespina/Documentos/austral/labo_3/.venv/lib/python3.12/site-packages (from catboost<1.3,>=1.2->autogluon.tabular[catboost,lightgbm,xgboost]==1.3.1->autogluon.timeseries) (6.2.0)\n",
      "Requirement already satisfied: aiohttp!=4.0.0a0,!=4.0.0a1 in /home/nespina/Documentos/austral/labo_3/.venv/lib/python3.12/site-packages (from fsspec[http]<2027.0,>=2022.5.0->lightning<2.7,>=2.2->autogluon.timeseries) (3.12.13)\n",
      "Requirement already satisfied: hf-xet<2.0.0,>=1.1.2 in /home/nespina/Documentos/austral/labo_3/.venv/lib/python3.12/site-packages (from huggingface_hub>=0.21.0->accelerate<2.0,>=0.34.0->autogluon.timeseries) (1.1.5)\n",
      "Requirement already satisfied: future in /home/nespina/Documentos/austral/labo_3/.venv/lib/python3.12/site-packages (from hyperopt<0.2.8,>=0.2.7->autogluon.core[raytune]==1.3.1->autogluon.timeseries) (1.0.0)\n",
      "Requirement already satisfied: py4j in /home/nespina/Documentos/austral/labo_3/.venv/lib/python3.12/site-packages (from hyperopt<0.2.8,>=0.2.7->autogluon.core[raytune]==1.3.1->autogluon.timeseries) (0.10.9.9)\n",
      "Requirement already satisfied: contourpy>=1.0.1 in /home/nespina/Documentos/austral/labo_3/.venv/lib/python3.12/site-packages (from matplotlib<3.11,>=3.7.0->autogluon.core==1.3.1->autogluon.core[raytune]==1.3.1->autogluon.timeseries) (1.3.2)\n",
      "Requirement already satisfied: cycler>=0.10 in /home/nespina/Documentos/austral/labo_3/.venv/lib/python3.12/site-packages (from matplotlib<3.11,>=3.7.0->autogluon.core==1.3.1->autogluon.core[raytune]==1.3.1->autogluon.timeseries) (0.12.1)\n",
      "Requirement already satisfied: fonttools>=4.22.0 in /home/nespina/Documentos/austral/labo_3/.venv/lib/python3.12/site-packages (from matplotlib<3.11,>=3.7.0->autogluon.core==1.3.1->autogluon.core[raytune]==1.3.1->autogluon.timeseries) (4.58.4)\n",
      "Requirement already satisfied: kiwisolver>=1.3.1 in /home/nespina/Documentos/austral/labo_3/.venv/lib/python3.12/site-packages (from matplotlib<3.11,>=3.7.0->autogluon.core==1.3.1->autogluon.core[raytune]==1.3.1->autogluon.timeseries) (1.4.8)\n",
      "Requirement already satisfied: pillow>=8 in /home/nespina/Documentos/austral/labo_3/.venv/lib/python3.12/site-packages (from matplotlib<3.11,>=3.7.0->autogluon.core==1.3.1->autogluon.core[raytune]==1.3.1->autogluon.timeseries) (11.2.1)\n",
      "Requirement already satisfied: pyparsing>=2.3.1 in /home/nespina/Documentos/austral/labo_3/.venv/lib/python3.12/site-packages (from matplotlib<3.11,>=3.7.0->autogluon.core==1.3.1->autogluon.core[raytune]==1.3.1->autogluon.timeseries) (3.2.3)\n",
      "Requirement already satisfied: llvmlite<0.45,>=0.44.0dev0 in /home/nespina/Documentos/austral/labo_3/.venv/lib/python3.12/site-packages (from numba->mlforecast<0.14,>0.13->autogluon.timeseries) (0.44.0)\n",
      "Requirement already satisfied: annotated-types>=0.6.0 in /home/nespina/Documentos/austral/labo_3/.venv/lib/python3.12/site-packages (from pydantic<3,>=1.7->gluonts<0.17,>=0.15.0->autogluon.timeseries) (0.7.0)\n",
      "Requirement already satisfied: pydantic-core==2.33.2 in /home/nespina/Documentos/austral/labo_3/.venv/lib/python3.12/site-packages (from pydantic<3,>=1.7->gluonts<0.17,>=0.15.0->autogluon.timeseries) (2.33.2)\n",
      "Requirement already satisfied: typing-inspection>=0.4.0 in /home/nespina/Documentos/austral/labo_3/.venv/lib/python3.12/site-packages (from pydantic<3,>=1.7->gluonts<0.17,>=0.15.0->autogluon.timeseries) (0.4.1)\n",
      "Requirement already satisfied: click>=7.0 in /home/nespina/Documentos/austral/labo_3/.venv/lib/python3.12/site-packages (from ray<2.45,>=2.10.0->ray[default,tune]<2.45,>=2.10.0; extra == \"raytune\"->autogluon.core[raytune]==1.3.1->autogluon.timeseries) (8.2.1)\n",
      "Requirement already satisfied: jsonschema in /home/nespina/Documentos/austral/labo_3/.venv/lib/python3.12/site-packages (from ray<2.45,>=2.10.0->ray[default,tune]<2.45,>=2.10.0; extra == \"raytune\"->autogluon.core[raytune]==1.3.1->autogluon.timeseries) (4.24.0)\n",
      "Requirement already satisfied: msgpack<2.0.0,>=1.0.0 in /home/nespina/Documentos/austral/labo_3/.venv/lib/python3.12/site-packages (from ray<2.45,>=2.10.0->ray[default,tune]<2.45,>=2.10.0; extra == \"raytune\"->autogluon.core[raytune]==1.3.1->autogluon.timeseries) (1.1.1)\n",
      "Requirement already satisfied: aiosignal in /home/nespina/Documentos/austral/labo_3/.venv/lib/python3.12/site-packages (from ray<2.45,>=2.10.0->ray[default,tune]<2.45,>=2.10.0; extra == \"raytune\"->autogluon.core[raytune]==1.3.1->autogluon.timeseries) (1.4.0)\n",
      "Requirement already satisfied: frozenlist in /home/nespina/Documentos/austral/labo_3/.venv/lib/python3.12/site-packages (from ray<2.45,>=2.10.0->ray[default,tune]<2.45,>=2.10.0; extra == \"raytune\"->autogluon.core[raytune]==1.3.1->autogluon.timeseries) (1.7.0)\n",
      "Requirement already satisfied: aiohttp_cors in /home/nespina/Documentos/austral/labo_3/.venv/lib/python3.12/site-packages (from ray[default,tune]<2.45,>=2.10.0; extra == \"raytune\"->autogluon.core[raytune]==1.3.1->autogluon.timeseries) (0.8.1)\n",
      "Requirement already satisfied: colorful in /home/nespina/Documentos/austral/labo_3/.venv/lib/python3.12/site-packages (from ray[default,tune]<2.45,>=2.10.0; extra == \"raytune\"->autogluon.core[raytune]==1.3.1->autogluon.timeseries) (0.5.7)\n",
      "Requirement already satisfied: py-spy>=0.4.0 in /home/nespina/Documentos/austral/labo_3/.venv/lib/python3.12/site-packages (from ray[default,tune]<2.45,>=2.10.0; extra == \"raytune\"->autogluon.core[raytune]==1.3.1->autogluon.timeseries) (0.4.0)\n",
      "Requirement already satisfied: opencensus in /home/nespina/Documentos/austral/labo_3/.venv/lib/python3.12/site-packages (from ray[default,tune]<2.45,>=2.10.0; extra == \"raytune\"->autogluon.core[raytune]==1.3.1->autogluon.timeseries) (0.11.4)\n",
      "Requirement already satisfied: prometheus_client>=0.7.1 in /home/nespina/Documentos/austral/labo_3/.venv/lib/python3.12/site-packages (from ray[default,tune]<2.45,>=2.10.0; extra == \"raytune\"->autogluon.core[raytune]==1.3.1->autogluon.timeseries) (0.22.1)\n",
      "Requirement already satisfied: smart_open in /home/nespina/Documentos/austral/labo_3/.venv/lib/python3.12/site-packages (from ray[default,tune]<2.45,>=2.10.0; extra == \"raytune\"->autogluon.core[raytune]==1.3.1->autogluon.timeseries) (7.3.0.post1)\n",
      "Requirement already satisfied: virtualenv!=20.21.1,>=20.0.24 in /home/nespina/Documentos/austral/labo_3/.venv/lib/python3.12/site-packages (from ray[default,tune]<2.45,>=2.10.0; extra == \"raytune\"->autogluon.core[raytune]==1.3.1->autogluon.timeseries) (20.31.2)\n",
      "Requirement already satisfied: tensorboardX>=1.9 in /home/nespina/Documentos/austral/labo_3/.venv/lib/python3.12/site-packages (from ray[default,tune]<2.45,>=2.10.0; extra == \"raytune\"->autogluon.core[raytune]==1.3.1->autogluon.timeseries) (2.6.4)\n",
      "Requirement already satisfied: patsy>=0.5.6 in /home/nespina/Documentos/austral/labo_3/.venv/lib/python3.12/site-packages (from statsmodels>=0.13.2->statsforecast<2.0.2,>=1.7.0->autogluon.timeseries) (1.0.1)\n",
      "Requirement already satisfied: fs in /home/nespina/Documentos/austral/labo_3/.venv/lib/python3.12/site-packages (from triad>=0.9.7->fugue>=0.9.0->autogluon.timeseries) (2.4.16)\n",
      "Requirement already satisfied: MarkupSafe>=2.1.1 in /home/nespina/Documentos/austral/labo_3/.venv/lib/python3.12/site-packages (from werkzeug>=1.0.1->tensorboard<3,>=2.9->autogluon.timeseries) (2.1.5)\n",
      "Requirement already satisfied: alembic>=1.5.0 in /home/nespina/Documentos/austral/labo_3/.venv/lib/python3.12/site-packages (from optuna->mlforecast<0.14,>0.13->autogluon.timeseries) (1.16.2)\n",
      "Requirement already satisfied: colorlog in /home/nespina/Documentos/austral/labo_3/.venv/lib/python3.12/site-packages (from optuna->mlforecast<0.14,>0.13->autogluon.timeseries) (6.9.0)\n",
      "Requirement already satisfied: sqlalchemy>=1.4.2 in /home/nespina/Documentos/austral/labo_3/.venv/lib/python3.12/site-packages (from optuna->mlforecast<0.14,>0.13->autogluon.timeseries) (2.0.41)\n",
      "Requirement already satisfied: charset_normalizer<4,>=2 in /home/nespina/Documentos/austral/labo_3/.venv/lib/python3.12/site-packages (from requests->autogluon.core==1.3.1->autogluon.core[raytune]==1.3.1->autogluon.timeseries) (3.4.2)\n",
      "Requirement already satisfied: idna<4,>=2.5 in /home/nespina/Documentos/austral/labo_3/.venv/lib/python3.12/site-packages (from requests->autogluon.core==1.3.1->autogluon.core[raytune]==1.3.1->autogluon.timeseries) (3.10)\n",
      "Requirement already satisfied: urllib3<3,>=1.21.1 in /home/nespina/Documentos/austral/labo_3/.venv/lib/python3.12/site-packages (from requests->autogluon.core==1.3.1->autogluon.core[raytune]==1.3.1->autogluon.timeseries) (2.5.0)\n",
      "Requirement already satisfied: certifi>=2017.4.17 in /home/nespina/Documentos/austral/labo_3/.venv/lib/python3.12/site-packages (from requests->autogluon.core==1.3.1->autogluon.core[raytune]==1.3.1->autogluon.timeseries) (2025.6.15)\n",
      "Requirement already satisfied: aiohappyeyeballs>=2.5.0 in /home/nespina/Documentos/austral/labo_3/.venv/lib/python3.12/site-packages (from aiohttp!=4.0.0a0,!=4.0.0a1->fsspec[http]<2027.0,>=2022.5.0->lightning<2.7,>=2.2->autogluon.timeseries) (2.6.1)\n",
      "Requirement already satisfied: attrs>=17.3.0 in /home/nespina/Documentos/austral/labo_3/.venv/lib/python3.12/site-packages (from aiohttp!=4.0.0a0,!=4.0.0a1->fsspec[http]<2027.0,>=2022.5.0->lightning<2.7,>=2.2->autogluon.timeseries) (25.3.0)\n",
      "Requirement already satisfied: multidict<7.0,>=4.5 in /home/nespina/Documentos/austral/labo_3/.venv/lib/python3.12/site-packages (from aiohttp!=4.0.0a0,!=4.0.0a1->fsspec[http]<2027.0,>=2022.5.0->lightning<2.7,>=2.2->autogluon.timeseries) (6.6.3)\n",
      "Requirement already satisfied: propcache>=0.2.0 in /home/nespina/Documentos/austral/labo_3/.venv/lib/python3.12/site-packages (from aiohttp!=4.0.0a0,!=4.0.0a1->fsspec[http]<2027.0,>=2022.5.0->lightning<2.7,>=2.2->autogluon.timeseries) (0.3.2)\n",
      "Requirement already satisfied: yarl<2.0,>=1.17.0 in /home/nespina/Documentos/austral/labo_3/.venv/lib/python3.12/site-packages (from aiohttp!=4.0.0a0,!=4.0.0a1->fsspec[http]<2027.0,>=2022.5.0->lightning<2.7,>=2.2->autogluon.timeseries) (1.20.1)\n",
      "Requirement already satisfied: Mako in /home/nespina/Documentos/austral/labo_3/.venv/lib/python3.12/site-packages (from alembic>=1.5.0->optuna->mlforecast<0.14,>0.13->autogluon.timeseries) (1.3.10)\n",
      "Requirement already satisfied: greenlet>=1 in /home/nespina/Documentos/austral/labo_3/.venv/lib/python3.12/site-packages (from sqlalchemy>=1.4.2->optuna->mlforecast<0.14,>0.13->autogluon.timeseries) (3.2.3)\n",
      "Requirement already satisfied: distlib<1,>=0.3.7 in /home/nespina/Documentos/austral/labo_3/.venv/lib/python3.12/site-packages (from virtualenv!=20.21.1,>=20.0.24->ray[default,tune]<2.45,>=2.10.0; extra == \"raytune\"->autogluon.core[raytune]==1.3.1->autogluon.timeseries) (0.3.9)\n",
      "Requirement already satisfied: platformdirs<5,>=3.9.1 in /home/nespina/Documentos/austral/labo_3/.venv/lib/python3.12/site-packages (from virtualenv!=20.21.1,>=20.0.24->ray[default,tune]<2.45,>=2.10.0; extra == \"raytune\"->autogluon.core[raytune]==1.3.1->autogluon.timeseries) (4.3.8)\n",
      "Requirement already satisfied: appdirs~=1.4.3 in /home/nespina/Documentos/austral/labo_3/.venv/lib/python3.12/site-packages (from fs->triad>=0.9.7->fugue>=0.9.0->autogluon.timeseries) (1.4.4)\n",
      "Requirement already satisfied: jsonschema-specifications>=2023.03.6 in /home/nespina/Documentos/austral/labo_3/.venv/lib/python3.12/site-packages (from jsonschema->ray<2.45,>=2.10.0->ray[default,tune]<2.45,>=2.10.0; extra == \"raytune\"->autogluon.core[raytune]==1.3.1->autogluon.timeseries) (2025.4.1)\n",
      "Requirement already satisfied: referencing>=0.28.4 in /home/nespina/Documentos/austral/labo_3/.venv/lib/python3.12/site-packages (from jsonschema->ray<2.45,>=2.10.0->ray[default,tune]<2.45,>=2.10.0; extra == \"raytune\"->autogluon.core[raytune]==1.3.1->autogluon.timeseries) (0.36.2)\n",
      "Requirement already satisfied: rpds-py>=0.7.1 in /home/nespina/Documentos/austral/labo_3/.venv/lib/python3.12/site-packages (from jsonschema->ray<2.45,>=2.10.0->ray[default,tune]<2.45,>=2.10.0; extra == \"raytune\"->autogluon.core[raytune]==1.3.1->autogluon.timeseries) (0.26.0)\n",
      "Requirement already satisfied: opencensus-context>=0.1.3 in /home/nespina/Documentos/austral/labo_3/.venv/lib/python3.12/site-packages (from opencensus->ray[default,tune]<2.45,>=2.10.0; extra == \"raytune\"->autogluon.core[raytune]==1.3.1->autogluon.timeseries) (0.1.3)\n",
      "Requirement already satisfied: google-api-core<3.0.0,>=1.0.0 in /home/nespina/Documentos/austral/labo_3/.venv/lib/python3.12/site-packages (from opencensus->ray[default,tune]<2.45,>=2.10.0; extra == \"raytune\"->autogluon.core[raytune]==1.3.1->autogluon.timeseries) (2.25.1)\n",
      "Requirement already satisfied: narwhals>=1.15.1 in /home/nespina/Documentos/austral/labo_3/.venv/lib/python3.12/site-packages (from plotly->catboost<1.3,>=1.2->autogluon.tabular[catboost,lightgbm,xgboost]==1.3.1->autogluon.timeseries) (1.46.0)\n",
      "Requirement already satisfied: wrapt in /home/nespina/Documentos/austral/labo_3/.venv/lib/python3.12/site-packages (from smart_open->ray[default,tune]<2.45,>=2.10.0; extra == \"raytune\"->autogluon.core[raytune]==1.3.1->autogluon.timeseries) (1.17.2)\n",
      "Requirement already satisfied: googleapis-common-protos<2.0.0,>=1.56.2 in /home/nespina/Documentos/austral/labo_3/.venv/lib/python3.12/site-packages (from google-api-core<3.0.0,>=1.0.0->opencensus->ray[default,tune]<2.45,>=2.10.0; extra == \"raytune\"->autogluon.core[raytune]==1.3.1->autogluon.timeseries) (1.70.0)\n",
      "Requirement already satisfied: proto-plus<2.0.0,>=1.22.3 in /home/nespina/Documentos/austral/labo_3/.venv/lib/python3.12/site-packages (from google-api-core<3.0.0,>=1.0.0->opencensus->ray[default,tune]<2.45,>=2.10.0; extra == \"raytune\"->autogluon.core[raytune]==1.3.1->autogluon.timeseries) (1.26.1)\n",
      "Requirement already satisfied: google-auth<3.0.0,>=2.14.1 in /home/nespina/Documentos/austral/labo_3/.venv/lib/python3.12/site-packages (from google-api-core<3.0.0,>=1.0.0->opencensus->ray[default,tune]<2.45,>=2.10.0; extra == \"raytune\"->autogluon.core[raytune]==1.3.1->autogluon.timeseries) (2.40.3)\n",
      "Requirement already satisfied: cachetools<6.0,>=2.0.0 in /home/nespina/Documentos/austral/labo_3/.venv/lib/python3.12/site-packages (from google-auth<3.0.0,>=2.14.1->google-api-core<3.0.0,>=1.0.0->opencensus->ray[default,tune]<2.45,>=2.10.0; extra == \"raytune\"->autogluon.core[raytune]==1.3.1->autogluon.timeseries) (5.5.2)\n",
      "Requirement already satisfied: pyasn1-modules>=0.2.1 in /home/nespina/Documentos/austral/labo_3/.venv/lib/python3.12/site-packages (from google-auth<3.0.0,>=2.14.1->google-api-core<3.0.0,>=1.0.0->opencensus->ray[default,tune]<2.45,>=2.10.0; extra == \"raytune\"->autogluon.core[raytune]==1.3.1->autogluon.timeseries) (0.4.2)\n",
      "Requirement already satisfied: rsa<5,>=3.1.4 in /home/nespina/Documentos/austral/labo_3/.venv/lib/python3.12/site-packages (from google-auth<3.0.0,>=2.14.1->google-api-core<3.0.0,>=1.0.0->opencensus->ray[default,tune]<2.45,>=2.10.0; extra == \"raytune\"->autogluon.core[raytune]==1.3.1->autogluon.timeseries) (4.9.1)\n",
      "Requirement already satisfied: pyasn1<0.7.0,>=0.6.1 in /home/nespina/Documentos/austral/labo_3/.venv/lib/python3.12/site-packages (from pyasn1-modules>=0.2.1->google-auth<3.0.0,>=2.14.1->google-api-core<3.0.0,>=1.0.0->opencensus->ray[default,tune]<2.45,>=2.10.0; extra == \"raytune\"->autogluon.core[raytune]==1.3.1->autogluon.timeseries) (0.6.1)\n"
     ]
    }
   ],
   "source": [
    "# !pip install autogluon.timeseries"
   ]
  },
  {
   "cell_type": "code",
   "execution_count": 2,
   "id": "8f52d34a",
   "metadata": {},
   "outputs": [
    {
     "name": "stderr",
     "output_type": "stream",
     "text": [
      "/home/nespina/Documentos/austral/labo_3/.venv/lib/python3.12/site-packages/tqdm/auto.py:21: TqdmWarning: IProgress not found. Please update jupyter and ipywidgets. See https://ipywidgets.readthedocs.io/en/stable/user_install.html\n",
      "  from .autonotebook import tqdm as notebook_tqdm\n"
     ]
    }
   ],
   "source": [
    "# Importar librerías\n",
    "import pandas as pd\n",
    "from autogluon.timeseries import TimeSeriesPredictor, TimeSeriesDataFrame"
   ]
  },
  {
   "cell_type": "code",
   "execution_count": 3,
   "id": "74387549",
   "metadata": {},
   "outputs": [],
   "source": [
    "# Cargar datasets\n",
    "df_sellin = pd.read_csv(\"../data/sell-in.txt\", sep=\"\\t\")\n",
    "df_productos = pd.read_csv(\"../data/tb_productos.txt\", sep=\"\\t\")\n",
    "\n",
    "# Leer lista de productos a predecir\n",
    "with open(\"../data/product_id_apredecir201912.txt\", \"r\") as f:\n",
    "    product_ids = [int(line.strip()) for line in f if line.strip().isdigit()]\n",
    "\n",
    "# Preprocesamiento\n",
    "# Convertir periodo a datetime\n",
    "df_sellin['timestamp'] = pd.to_datetime(df_sellin['periodo'], format='%Y%m')"
   ]
  },
  {
   "cell_type": "code",
   "execution_count": 4,
   "id": "e14417ff",
   "metadata": {},
   "outputs": [],
   "source": [
    "# Filtrar hasta dic 2019 y productos requeridos\n",
    "df_filtered = df_sellin[\n",
    "    (df_sellin['timestamp'] <= '2019-12-01') &\n",
    "    (df_sellin['product_id'].isin(product_ids))\n",
    "]"
   ]
  },
  {
   "cell_type": "code",
   "execution_count": 5,
   "id": "bb3c4bac",
   "metadata": {},
   "outputs": [],
   "source": [
    "# Agregar tn por periodo, cliente y producto\n",
    "df_grouped = df_filtered.groupby(['timestamp', 'customer_id', 'product_id'], as_index=False)['tn'].sum()"
   ]
  },
  {
   "cell_type": "code",
   "execution_count": null,
   "id": "3df0c480",
   "metadata": {},
   "outputs": [],
   "source": [
    "# Agregar tn total por periodo y producto\n",
    "df_monthly_product = df_grouped.groupby(['timestamp', 'product_id'], as_index=False)['tn'].sum()\n",
    "df_monthly_product.head()"
   ]
  },
  {
   "cell_type": "code",
   "execution_count": 7,
   "id": "065d2ca2",
   "metadata": {},
   "outputs": [],
   "source": [
    "# Agregar columna 'item_id' para AutoGluon\n",
    "df_monthly_product['item_id'] = df_monthly_product['product_id']"
   ]
  },
  {
   "cell_type": "code",
   "execution_count": 8,
   "id": "eb4e2dfb",
   "metadata": {},
   "outputs": [],
   "source": [
    "# ⏰ 4. Crear TimeSeriesDataFrame\n",
    "ts_data = TimeSeriesDataFrame.from_data_frame(\n",
    "    df_monthly_product,\n",
    "    id_column='item_id',\n",
    "    timestamp_column='timestamp'\n",
    ")"
   ]
  },
  {
   "cell_type": "code",
   "execution_count": 9,
   "id": "ddac4147",
   "metadata": {},
   "outputs": [],
   "source": [
    "# Completar valores faltantes\n",
    "ts_data = ts_data.fill_missing_values()"
   ]
  },
  {
   "cell_type": "code",
   "execution_count": null,
   "id": "5b7cc7be",
   "metadata": {},
   "outputs": [
    {
     "name": "stderr",
     "output_type": "stream",
     "text": [
      "Beginning AutoGluon training... Time limit = 3600s\n",
      "AutoGluon will save models to '/home/nespina/Documentos/austral/labo_3/src/AutogluonModels/ag-20250719_004328'\n",
      "=================== System Info ===================\n",
      "AutoGluon Version:  1.3.1\n",
      "Python Version:     3.12.3\n",
      "Operating System:   Linux\n",
      "Platform Machine:   x86_64\n",
      "Platform Version:   #66-Ubuntu SMP PREEMPT_DYNAMIC Fri Jun 13 20:25:30 UTC 2025\n",
      "CPU Count:          8\n",
      "GPU Count:          0\n",
      "Memory Avail:       5.69 GB / 11.37 GB (50.0%)\n",
      "Disk Space Avail:   107.99 GB / 284.85 GB (37.9%)\n",
      "===================================================\n",
      "\n",
      "Fitting with arguments:\n",
      "{'enable_ensemble': True,\n",
      " 'eval_metric': WQL,\n",
      " 'freq': 'MS',\n",
      " 'hyperparameters': {'DeepAR': {},\n",
      "                     'PatchTST': {},\n",
      "                     'TemporalFusionTransformer': {}},\n",
      " 'known_covariates_names': [],\n",
      " 'num_val_windows': 2,\n",
      " 'prediction_length': 2,\n",
      " 'quantile_levels': [0.1, 0.2, 0.3, 0.4, 0.5, 0.6, 0.7, 0.8, 0.9],\n",
      " 'random_seed': 123,\n",
      " 'refit_every_n_windows': 1,\n",
      " 'refit_full': False,\n",
      " 'skip_model_selection': False,\n",
      " 'target': 'tn',\n",
      " 'time_limit': 3600,\n",
      " 'verbosity': 2}\n",
      "\n",
      "train_data with frequency 'IRREG' has been resampled to frequency 'MS'.\n",
      "Provided train_data has 22375 rows (NaN fraction=0.1%), 780 time series. Median time series length is 36 (min=4, max=36). \n",
      "\tRemoving 75 short time series from train_data. Only series with length >= 9 will be used for training.\n",
      "\tAfter filtering, train_data has 21916 rows (NaN fraction=0.1%), 705 time series. Median time series length is 36 (min=9, max=36). \n",
      "\n",
      "Provided data contains following columns:\n",
      "\ttarget: 'tn'\n",
      "\tpast_covariates:\n",
      "\t\tcategorical:        []\n",
      "\t\tcontinuous (float): ['product_id']\n",
      "\n",
      "To learn how to fix incorrectly inferred types, please see documentation for TimeSeriesPredictor.fit\n",
      "\n",
      "AutoGluon will gauge predictive performance using evaluation metric: 'WQL'\n",
      "\tThis metric's sign has been flipped to adhere to being higher_is_better. The metric score can be multiplied by -1 to get the metric value.\n",
      "===================================================\n",
      "\n",
      "Starting training. Start time is 2025-07-18 19:43:29\n",
      "Models that will be trained: ['TemporalFusionTransformer', 'DeepAR', 'PatchTST']\n",
      "Training timeseries model TemporalFusionTransformer. Training for up to 999.7s of the 3599.0s of remaining time.\n",
      "\t-0.1832       = Validation score (-WQL)\n",
      "\t373.57  s     = Training runtime\n",
      "\t0.57    s     = Validation (prediction) runtime\n",
      "Training timeseries model DeepAR. Training for up to 1312.4s of the 3224.9s of remaining time.\n",
      "\t-0.1811       = Validation score (-WQL)\n",
      "\t161.21  s     = Training runtime\n",
      "\t0.77    s     = Validation (prediction) runtime\n",
      "Training timeseries model PatchTST. Training for up to 2462.9s of the 3062.9s of remaining time.\n",
      "\t-0.1832       = Validation score (-WQL)\n",
      "\t110.44  s     = Training runtime\n",
      "\t0.34    s     = Validation (prediction) runtime\n",
      "Fitting simple weighted ensemble.\n",
      "\tEnsemble weights: {'DeepAR': 0.42, 'PatchTST': 0.2, 'TemporalFusionTransformer': 0.38}\n",
      "\t-0.1734       = Validation score (-WQL)\n",
      "\t0.86    s     = Training runtime\n",
      "\t1.68    s     = Validation (prediction) runtime\n",
      "Training complete. Models trained: ['TemporalFusionTransformer', 'DeepAR', 'PatchTST', 'WeightedEnsemble']\n",
      "Total runtime: 647.92 s\n",
      "Best model: WeightedEnsemble\n",
      "Best model score: -0.1734\n"
     ]
    },
    {
     "data": {
      "text/plain": [
       "<autogluon.timeseries.predictor.TimeSeriesPredictor at 0x7c120418ac30>"
      ]
     },
     "execution_count": 12,
     "metadata": {},
     "output_type": "execute_result"
    }
   ],
   "source": [
    "# Filter out unsupported models and convert to dictionary format\n",
    "supported_models = ['DeepAR', 'PatchTST', 'TemporalFusionTransformer']\n",
    "hyperparameters_dict = {model: {} for model in supported_models}\n",
    "\n",
    "predictor = TimeSeriesPredictor(\n",
    "    prediction_length=2,\n",
    "    target='tn',\n",
    "    freq='MS'\n",
    ")\n",
    "\n",
    "predictor.fit(\n",
    "    ts_data, \n",
    "    num_val_windows=2, \n",
    "    time_limit=60*60, \n",
    "    presets=None, \n",
    "    # hyperparameters=hyperparameters_dict,\n",
    "    enable_ensemble=True\n",
    ")\n"
   ]
  },
  {
   "cell_type": "code",
   "execution_count": 13,
   "id": "2c27fefb",
   "metadata": {},
   "outputs": [
    {
     "name": "stderr",
     "output_type": "stream",
     "text": [
      "data with frequency 'IRREG' has been resampled to frequency 'MS'.\n",
      "Model not specified in predict, will default to the model with the best validation score: WeightedEnsemble\n"
     ]
    }
   ],
   "source": [
    "# 🔮 6. Generar predicción\n",
    "forecast = predictor.predict(ts_data)"
   ]
  },
  {
   "cell_type": "code",
   "execution_count": 14,
   "id": "57205cb3",
   "metadata": {},
   "outputs": [
    {
     "name": "stdout",
     "output_type": "stream",
     "text": [
      "Index(['item_id', 'timestamp', 'mean'], dtype='object')\n"
     ]
    }
   ],
   "source": [
    "# Extraer predicción media y filtrar febrero 2020\n",
    "forecast_mean = forecast['mean'].reset_index()\n",
    "print(forecast_mean.columns)"
   ]
  },
  {
   "cell_type": "code",
   "execution_count": 15,
   "id": "d62a0982",
   "metadata": {},
   "outputs": [],
   "source": [
    "# Tomar solo item_id y la predicción 'mean'\n",
    "resultado = forecast['mean'].reset_index()[['item_id', 'mean']]\n",
    "resultado.columns = ['product_id', 'tn']\n",
    "\n",
    "# Filtrar solo febrero 2020\n",
    "resultado = forecast['mean'].reset_index()\n",
    "resultado = resultado[resultado['timestamp'] == '2020-02-01']\n",
    "\n",
    "# Renombrar columnas\n",
    "resultado = resultado[['item_id', 'mean']]\n",
    "resultado.columns = ['product_id', 'tn']\n"
   ]
  },
  {
   "cell_type": "code",
   "execution_count": 16,
   "id": "81a9323c",
   "metadata": {},
   "outputs": [
    {
     "data": {
      "text/html": [
       "<div>\n",
       "<style scoped>\n",
       "    .dataframe tbody tr th:only-of-type {\n",
       "        vertical-align: middle;\n",
       "    }\n",
       "\n",
       "    .dataframe tbody tr th {\n",
       "        vertical-align: top;\n",
       "    }\n",
       "\n",
       "    .dataframe thead th {\n",
       "        text-align: right;\n",
       "    }\n",
       "</style>\n",
       "<table border=\"1\" class=\"dataframe\">\n",
       "  <thead>\n",
       "    <tr style=\"text-align: right;\">\n",
       "      <th></th>\n",
       "      <th>product_id</th>\n",
       "      <th>tn</th>\n",
       "    </tr>\n",
       "  </thead>\n",
       "  <tbody>\n",
       "    <tr>\n",
       "      <th>1</th>\n",
       "      <td>20001</td>\n",
       "      <td>1277.140118</td>\n",
       "    </tr>\n",
       "    <tr>\n",
       "      <th>3</th>\n",
       "      <td>20002</td>\n",
       "      <td>982.076050</td>\n",
       "    </tr>\n",
       "    <tr>\n",
       "      <th>5</th>\n",
       "      <td>20003</td>\n",
       "      <td>690.176979</td>\n",
       "    </tr>\n",
       "    <tr>\n",
       "      <th>7</th>\n",
       "      <td>20004</td>\n",
       "      <td>509.674443</td>\n",
       "    </tr>\n",
       "    <tr>\n",
       "      <th>9</th>\n",
       "      <td>20005</td>\n",
       "      <td>541.772269</td>\n",
       "    </tr>\n",
       "  </tbody>\n",
       "</table>\n",
       "</div>"
      ],
      "text/plain": [
       "   product_id           tn\n",
       "1       20001  1277.140118\n",
       "3       20002   982.076050\n",
       "5       20003   690.176979\n",
       "7       20004   509.674443\n",
       "9       20005   541.772269"
      ]
     },
     "execution_count": 16,
     "metadata": {},
     "output_type": "execute_result"
    }
   ],
   "source": [
    "# 💾 7. Guardar archivo\n",
    "resultado.to_csv(\"predicciones_febrero2020_fecha_01_07.csv\", index=False)\n",
    "resultado.head()"
   ]
  },
  {
   "cell_type": "code",
   "execution_count": 17,
   "id": "0987ba08",
   "metadata": {},
   "outputs": [
    {
     "name": "stdout",
     "output_type": "stream",
     "text": [
      "Mejores modelos entrenados:\n",
      "                       model  score_val  pred_time_val  fit_time_marginal  \\\n",
      "0           WeightedEnsemble  -0.173394       1.677846           0.863149   \n",
      "1                     DeepAR  -0.181145       0.765715         161.206216   \n",
      "2  TemporalFusionTransformer  -0.183212       0.569908         373.567895   \n",
      "3                   PatchTST  -0.183233       0.342223         110.444024   \n",
      "\n",
      "   fit_order  \n",
      "0          4  \n",
      "1          2  \n",
      "2          1  \n",
      "3          3  \n"
     ]
    }
   ],
   "source": [
    "# Mostrar los mejores modelos del predictor\n",
    "print(\"Mejores modelos entrenados:\")\n",
    "print(predictor.leaderboard())"
   ]
  }
 ],
 "metadata": {
  "kernelspec": {
   "display_name": ".venv",
   "language": "python",
   "name": "python3"
  },
  "language_info": {
   "codemirror_mode": {
    "name": "ipython",
    "version": 3
   },
   "file_extension": ".py",
   "mimetype": "text/x-python",
   "name": "python",
   "nbconvert_exporter": "python",
   "pygments_lexer": "ipython3",
   "version": "3.12.3"
  }
 },
 "nbformat": 4,
 "nbformat_minor": 5
}
