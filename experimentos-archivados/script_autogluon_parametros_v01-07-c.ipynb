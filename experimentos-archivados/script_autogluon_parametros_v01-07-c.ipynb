{
 "cells": [
  {
   "cell_type": "markdown",
   "id": "2ae3d4bc",
   "metadata": {},
   "source": [
    "AutoGluon - Predicción de ventas (tn) por producto para febrero 2020"
   ]
  },
  {
   "cell_type": "code",
   "execution_count": 39,
   "id": "6cd9c564",
   "metadata": {},
   "outputs": [],
   "source": [
    "# !pip install autogluon.timeseries"
   ]
  },
  {
   "cell_type": "code",
   "execution_count": 40,
   "id": "8f52d34a",
   "metadata": {},
   "outputs": [],
   "source": [
    "# Importar librerías\n",
    "import pandas as pd\n",
    "from autogluon.timeseries import TimeSeriesPredictor, TimeSeriesDataFrame"
   ]
  },
  {
   "cell_type": "code",
   "execution_count": 41,
   "id": "74387549",
   "metadata": {},
   "outputs": [],
   "source": [
    "# Cargar datasets\n",
    "df_sellin = pd.read_csv(\"../data/sell-in.txt\", sep=\"\\t\")\n",
    "df_productos = pd.read_csv(\"../data/tb_productos.txt\", sep=\"\\t\")\n",
    "\n",
    "# Leer lista de productos a predecir\n",
    "with open(\"../data/product_id_apredecir201912.txt\", \"r\") as f:\n",
    "    product_ids = [int(line.strip()) for line in f if line.strip().isdigit()]\n",
    "\n",
    "# Preprocesamiento\n",
    "# Convertir periodo a datetime\n",
    "df_sellin['timestamp'] = pd.to_datetime(df_sellin['periodo'], format='%Y%m')"
   ]
  },
  {
   "cell_type": "code",
   "execution_count": 42,
   "id": "e14417ff",
   "metadata": {},
   "outputs": [],
   "source": [
    "# Filtrar hasta dic 2019 y productos requeridos\n",
    "df_filtered = df_sellin[\n",
    "    (df_sellin['timestamp'] <= '2019-12-01') &\n",
    "    (df_sellin['product_id'].isin(product_ids))\n",
    "]"
   ]
  },
  {
   "cell_type": "code",
   "execution_count": 43,
   "id": "bb3c4bac",
   "metadata": {},
   "outputs": [],
   "source": [
    "# Agregar tn por periodo, cliente y producto\n",
    "df_grouped = df_filtered.groupby(['timestamp', 'customer_id', 'product_id'], as_index=False)['tn'].sum()"
   ]
  },
  {
   "cell_type": "code",
   "execution_count": 44,
   "id": "3df0c480",
   "metadata": {},
   "outputs": [],
   "source": [
    "# Agregar tn total por periodo y producto\n",
    "df_monthly_product = df_grouped.groupby(['timestamp', 'product_id'], as_index=False)['tn'].sum()"
   ]
  },
  {
   "cell_type": "code",
   "execution_count": 45,
   "id": "065d2ca2",
   "metadata": {},
   "outputs": [],
   "source": [
    "# Agregar columna 'item_id' para AutoGluon\n",
    "df_monthly_product['item_id'] = df_monthly_product['product_id']"
   ]
  },
  {
   "cell_type": "code",
   "execution_count": 46,
   "id": "eb4e2dfb",
   "metadata": {},
   "outputs": [],
   "source": [
    "# ⏰ 4. Crear TimeSeriesDataFrame\n",
    "ts_data = TimeSeriesDataFrame.from_data_frame(\n",
    "    df_monthly_product,\n",
    "    id_column='item_id',\n",
    "    timestamp_column='timestamp'\n",
    ")"
   ]
  },
  {
   "cell_type": "code",
   "execution_count": 47,
   "id": "ddac4147",
   "metadata": {},
   "outputs": [],
   "source": [
    "# Completar valores faltantes\n",
    "ts_data = ts_data.fill_missing_values()"
   ]
  },
  {
   "cell_type": "code",
   "execution_count": 10,
   "id": "5b7cc7be",
   "metadata": {},
   "outputs": [
    {
     "name": "stderr",
     "output_type": "stream",
     "text": [
      "Beginning AutoGluon training... Time limit = 3600s\n",
      "AutoGluon will save models to '/home/nespina/Documentos/austral/labo_3/src/AutogluonModels/ag-20250719_015202'\n",
      "=================== System Info ===================\n",
      "AutoGluon Version:  1.3.1\n",
      "Python Version:     3.12.3\n",
      "Operating System:   Linux\n",
      "Platform Machine:   x86_64\n",
      "Platform Version:   #66-Ubuntu SMP PREEMPT_DYNAMIC Fri Jun 13 20:25:30 UTC 2025\n",
      "CPU Count:          8\n",
      "GPU Count:          0\n",
      "Memory Avail:       4.89 GB / 11.37 GB (43.0%)\n",
      "Disk Space Avail:   107.92 GB / 284.85 GB (37.9%)\n",
      "===================================================\n",
      "\n",
      "Fitting with arguments:\n",
      "{'enable_ensemble': True,\n",
      " 'eval_metric': WQL,\n",
      " 'freq': 'MS',\n",
      " 'hyperparameters': {'DeepAR': {},\n",
      "                     'PatchTST': {},\n",
      "                     'TemporalFusionTransformer': {}},\n",
      " 'known_covariates_names': [],\n",
      " 'num_val_windows': 2,\n",
      " 'prediction_length': 2,\n",
      " 'quantile_levels': [0.1, 0.2, 0.3, 0.4, 0.5, 0.6, 0.7, 0.8, 0.9],\n",
      " 'random_seed': 123,\n",
      " 'refit_every_n_windows': 1,\n",
      " 'refit_full': False,\n",
      " 'skip_model_selection': False,\n",
      " 'target': 'tn',\n",
      " 'time_limit': 3600,\n",
      " 'verbosity': 2}\n",
      "\n",
      "train_data with frequency 'IRREG' has been resampled to frequency 'MS'.\n",
      "Provided train_data has 13577 rows (NaN fraction=0.1%), 656 time series. Median time series length is 24 (min=2, max=24). \n",
      "\tRemoving 69 short time series from train_data. Only series with length >= 9 will be used for training.\n",
      "\tAfter filtering, train_data has 13279 rows (NaN fraction=0.1%), 587 time series. Median time series length is 24 (min=9, max=24). \n",
      "\n",
      "Provided data contains following columns:\n",
      "\ttarget: 'tn'\n",
      "\tpast_covariates:\n",
      "\t\tcategorical:        []\n",
      "\t\tcontinuous (float): ['product_id']\n",
      "\n",
      "To learn how to fix incorrectly inferred types, please see documentation for TimeSeriesPredictor.fit\n",
      "\n",
      "AutoGluon will gauge predictive performance using evaluation metric: 'WQL'\n",
      "\tThis metric's sign has been flipped to adhere to being higher_is_better. The metric score can be multiplied by -1 to get the metric value.\n",
      "===================================================\n",
      "\n",
      "Starting training. Start time is 2025-07-18 20:52:06\n",
      "Models that will be trained: ['TemporalFusionTransformer', 'DeepAR', 'PatchTST']\n",
      "Training timeseries model TemporalFusionTransformer. Training for up to 998.6s of the 3595.7s of remaining time.\n",
      "\t-0.1902       = Validation score (-WQL)\n",
      "\t346.19  s     = Training runtime\n",
      "\t0.51    s     = Validation (prediction) runtime\n",
      "Training timeseries model DeepAR. Training for up to 1324.5s of the 3248.9s of remaining time.\n",
      "\t-0.1972       = Validation score (-WQL)\n",
      "\t178.40  s     = Training runtime\n",
      "\t0.73    s     = Validation (prediction) runtime\n",
      "Training timeseries model PatchTST. Training for up to 2469.8s of the 3069.8s of remaining time.\n",
      "\t-0.1961       = Validation score (-WQL)\n",
      "\t99.72   s     = Training runtime\n",
      "\t0.31    s     = Validation (prediction) runtime\n",
      "Fitting simple weighted ensemble.\n",
      "\tEnsemble weights: {'DeepAR': 0.28, 'PatchTST': 0.19, 'TemporalFusionTransformer': 0.53}\n",
      "\t-0.1845       = Validation score (-WQL)\n",
      "\t0.87    s     = Training runtime\n",
      "\t1.55    s     = Validation (prediction) runtime\n",
      "Training complete. Models trained: ['TemporalFusionTransformer', 'DeepAR', 'PatchTST', 'WeightedEnsemble']\n",
      "Total runtime: 626.88 s\n",
      "Best model: WeightedEnsemble\n",
      "Best model score: -0.1845\n"
     ]
    },
    {
     "data": {
      "text/plain": [
       "<autogluon.timeseries.predictor.TimeSeriesPredictor at 0x702efb680ad0>"
      ]
     },
     "execution_count": 10,
     "metadata": {},
     "output_type": "execute_result"
    }
   ],
   "source": [
    "# Filter out unsupported models and convert to dictionary format\n",
    "supported_models = ['DeepAR', 'PatchTST', 'TemporalFusionTransformer']\n",
    "hyperparameters_dict = {model: {} for model in supported_models}\n",
    "\n",
    "predictor = TimeSeriesPredictor(\n",
    "    prediction_length=2,\n",
    "    target='tn',\n",
    "    freq='MS'\n",
    ")\n",
    "\n",
    "predictor.fit(\n",
    "    ts_data, \n",
    "    num_val_windows=2, \n",
    "    time_limit=60*60, \n",
    "    presets=None, \n",
    "    hyperparameters=hyperparameters_dict,\n",
    "    enable_ensemble=True\n",
    ")\n"
   ]
  },
  {
   "cell_type": "code",
   "execution_count": 11,
   "id": "2c27fefb",
   "metadata": {},
   "outputs": [
    {
     "name": "stderr",
     "output_type": "stream",
     "text": [
      "data with frequency 'IRREG' has been resampled to frequency 'MS'.\n",
      "Model not specified in predict, will default to the model with the best validation score: WeightedEnsemble\n"
     ]
    }
   ],
   "source": [
    "# 🔮 6. Generar predicción\n",
    "forecast = predictor.predict(ts_data)"
   ]
  },
  {
   "cell_type": "code",
   "execution_count": 12,
   "id": "57205cb3",
   "metadata": {},
   "outputs": [
    {
     "name": "stdout",
     "output_type": "stream",
     "text": [
      "Index(['item_id', 'timestamp', 'mean'], dtype='object')\n"
     ]
    }
   ],
   "source": [
    "# Extraer predicción media y filtrar febrero 2019\n",
    "forecast_mean = forecast['mean'].reset_index()\n",
    "print(forecast_mean.columns)"
   ]
  },
  {
   "cell_type": "code",
   "execution_count": 13,
   "id": "d62a0982",
   "metadata": {},
   "outputs": [],
   "source": [
    "# Tomar solo item_id y la predicción 'mean'\n",
    "resultado = forecast['mean'].reset_index()[['item_id', 'mean']]\n",
    "resultado.columns = ['product_id', 'tn']\n",
    "\n",
    "# Filtrar solo febrero 2019\n",
    "resultado = forecast['mean'].reset_index()\n",
    "resultado = resultado[resultado['timestamp'] == '2019-02-01']\n",
    "\n",
    "# Renombrar columnas\n",
    "resultado = resultado[['item_id', 'mean']]\n",
    "resultado.columns = ['product_id', 'tn']\n"
   ]
  },
  {
   "cell_type": "code",
   "execution_count": 50,
   "id": "91ec08f6",
   "metadata": {},
   "outputs": [
    {
     "data": {
      "text/html": [
       "<div>\n",
       "<style scoped>\n",
       "    .dataframe tbody tr th:only-of-type {\n",
       "        vertical-align: middle;\n",
       "    }\n",
       "\n",
       "    .dataframe tbody tr th {\n",
       "        vertical-align: top;\n",
       "    }\n",
       "\n",
       "    .dataframe thead th {\n",
       "        text-align: right;\n",
       "    }\n",
       "</style>\n",
       "<table border=\"1\" class=\"dataframe\">\n",
       "  <thead>\n",
       "    <tr style=\"text-align: right;\">\n",
       "      <th></th>\n",
       "      <th>product_id</th>\n",
       "      <th>tn</th>\n",
       "    </tr>\n",
       "  </thead>\n",
       "  <tbody>\n",
       "    <tr>\n",
       "      <th>1</th>\n",
       "      <td>20001</td>\n",
       "      <td>1254.235273</td>\n",
       "    </tr>\n",
       "    <tr>\n",
       "      <th>3</th>\n",
       "      <td>20002</td>\n",
       "      <td>904.599322</td>\n",
       "    </tr>\n",
       "    <tr>\n",
       "      <th>5</th>\n",
       "      <td>20003</td>\n",
       "      <td>722.232125</td>\n",
       "    </tr>\n",
       "    <tr>\n",
       "      <th>7</th>\n",
       "      <td>20004</td>\n",
       "      <td>503.424966</td>\n",
       "    </tr>\n",
       "    <tr>\n",
       "      <th>9</th>\n",
       "      <td>20005</td>\n",
       "      <td>381.429058</td>\n",
       "    </tr>\n",
       "  </tbody>\n",
       "</table>\n",
       "</div>"
      ],
      "text/plain": [
       "   product_id           tn\n",
       "1       20001  1254.235273\n",
       "3       20002   904.599322\n",
       "5       20003   722.232125\n",
       "7       20004   503.424966\n",
       "9       20005   381.429058"
      ]
     },
     "execution_count": 50,
     "metadata": {},
     "output_type": "execute_result"
    }
   ],
   "source": [
    "resultado.head()"
   ]
  },
  {
   "cell_type": "code",
   "execution_count": 51,
   "id": "2f58ef52",
   "metadata": {},
   "outputs": [
    {
     "name": "stdout",
     "output_type": "stream",
     "text": [
      "                    product_id          tn\n",
      "item_id timestamp                         \n",
      "20001   2019-02-01       20001  1259.09363\n",
      "20002   2019-02-01       20002  1043.01349\n",
      "20003   2019-02-01       20003   758.32657\n",
      "20004   2019-02-01       20004   441.70332\n",
      "20005   2019-02-01       20005   409.89950\n"
     ]
    }
   ],
   "source": [
    "# Creamos un \"slicer\" para seleccionar en el índice multinivel\n",
    "idx = pd.IndexSlice\n",
    "\n",
    "# Seleccionamos todos los item_id (usando ':') y filtramos el timestamp para '2019-02'\n",
    "df_febrero_2019 = ts_data.loc[idx[:, '2019-02'], :]\n",
    "\n",
    "# Ahora 'df_febrero_2019' contiene los datos que necesitas\n",
    "print(df_febrero_2019.head())"
   ]
  },
  {
   "cell_type": "code",
   "execution_count": 54,
   "id": "74207481",
   "metadata": {},
   "outputs": [
    {
     "data": {
      "text/html": [
       "<div>\n",
       "<style scoped>\n",
       "    .dataframe tbody tr th:only-of-type {\n",
       "        vertical-align: middle;\n",
       "    }\n",
       "\n",
       "    .dataframe tbody tr th {\n",
       "        vertical-align: top;\n",
       "    }\n",
       "\n",
       "    .dataframe thead th {\n",
       "        text-align: right;\n",
       "    }\n",
       "</style>\n",
       "<table border=\"1\" class=\"dataframe\">\n",
       "  <thead>\n",
       "    <tr style=\"text-align: right;\">\n",
       "      <th></th>\n",
       "      <th></th>\n",
       "      <th>product_id</th>\n",
       "      <th>tn</th>\n",
       "    </tr>\n",
       "    <tr>\n",
       "      <th>item_id</th>\n",
       "      <th>timestamp</th>\n",
       "      <th></th>\n",
       "      <th></th>\n",
       "    </tr>\n",
       "  </thead>\n",
       "  <tbody>\n",
       "    <tr>\n",
       "      <th>20001</th>\n",
       "      <th>2019-02-01</th>\n",
       "      <td>20001</td>\n",
       "      <td>1259.09363</td>\n",
       "    </tr>\n",
       "    <tr>\n",
       "      <th>20002</th>\n",
       "      <th>2019-02-01</th>\n",
       "      <td>20002</td>\n",
       "      <td>1043.01349</td>\n",
       "    </tr>\n",
       "    <tr>\n",
       "      <th>20003</th>\n",
       "      <th>2019-02-01</th>\n",
       "      <td>20003</td>\n",
       "      <td>758.32657</td>\n",
       "    </tr>\n",
       "    <tr>\n",
       "      <th>20004</th>\n",
       "      <th>2019-02-01</th>\n",
       "      <td>20004</td>\n",
       "      <td>441.70332</td>\n",
       "    </tr>\n",
       "    <tr>\n",
       "      <th>20005</th>\n",
       "      <th>2019-02-01</th>\n",
       "      <td>20005</td>\n",
       "      <td>409.89950</td>\n",
       "    </tr>\n",
       "  </tbody>\n",
       "</table>\n",
       "</div>"
      ],
      "text/plain": [
       "                    product_id          tn\n",
       "item_id timestamp                         \n",
       "20001   2019-02-01       20001  1259.09363\n",
       "20002   2019-02-01       20002  1043.01349\n",
       "20003   2019-02-01       20003   758.32657\n",
       "20004   2019-02-01       20004   441.70332\n",
       "20005   2019-02-01       20005   409.89950"
      ]
     },
     "execution_count": 54,
     "metadata": {},
     "output_type": "execute_result"
    }
   ],
   "source": [
    "df_febrero_2019.head()"
   ]
  },
  {
   "cell_type": "code",
   "execution_count": 56,
   "id": "24dd0fe9",
   "metadata": {},
   "outputs": [
    {
     "data": {
      "text/html": [
       "<div>\n",
       "<style scoped>\n",
       "    .dataframe tbody tr th:only-of-type {\n",
       "        vertical-align: middle;\n",
       "    }\n",
       "\n",
       "    .dataframe tbody tr th {\n",
       "        vertical-align: top;\n",
       "    }\n",
       "\n",
       "    .dataframe thead th {\n",
       "        text-align: right;\n",
       "    }\n",
       "</style>\n",
       "<table border=\"1\" class=\"dataframe\">\n",
       "  <thead>\n",
       "    <tr style=\"text-align: right;\">\n",
       "      <th></th>\n",
       "      <th>product_id</th>\n",
       "      <th>coef</th>\n",
       "    </tr>\n",
       "  </thead>\n",
       "  <tbody>\n",
       "    <tr>\n",
       "      <th>0</th>\n",
       "      <td>20001</td>\n",
       "      <td>1.003874</td>\n",
       "    </tr>\n",
       "    <tr>\n",
       "      <th>1</th>\n",
       "      <td>20002</td>\n",
       "      <td>1.153012</td>\n",
       "    </tr>\n",
       "    <tr>\n",
       "      <th>2</th>\n",
       "      <td>20003</td>\n",
       "      <td>1.049976</td>\n",
       "    </tr>\n",
       "    <tr>\n",
       "      <th>3</th>\n",
       "      <td>20004</td>\n",
       "      <td>0.877397</td>\n",
       "    </tr>\n",
       "    <tr>\n",
       "      <th>4</th>\n",
       "      <td>20005</td>\n",
       "      <td>1.074642</td>\n",
       "    </tr>\n",
       "  </tbody>\n",
       "</table>\n",
       "</div>"
      ],
      "text/plain": [
       "   product_id      coef\n",
       "0       20001  1.003874\n",
       "1       20002  1.153012\n",
       "2       20003  1.049976\n",
       "3       20004  0.877397\n",
       "4       20005  1.074642"
      ]
     },
     "execution_count": 56,
     "metadata": {},
     "output_type": "execute_result"
    }
   ],
   "source": [
    "# Crear un DataFrame con los coeficientes para cada product_id en resultado\n",
    "# 1. Hacemos merge para alinear los tn de resultado y df_febrero_2019\n",
    "# 2. Calculamos el coeficiente como tn_real / tn_predicho\n",
    "# 3. Para los que no existen en df_febrero_2019, el coeficiente será 1\n",
    "\n",
    "# Convertir df_febrero_2019 a DataFrame plano para merge\n",
    "df_febrero_2019_reset = df_febrero_2019.reset_index()[['product_id', 'tn']].rename(columns={'tn': 'tn_real'})\n",
    "\n",
    "# Unir resultado con los valores reales\n",
    "coef_df = resultado.merge(df_febrero_2019_reset, on='product_id', how='left')\n",
    "\n",
    "# Calcular coeficiente\n",
    "coef_df['coef'] = coef_df['tn_real'] / coef_df['tn']\n",
    "\n",
    "# Para los que no existen en df_febrero_2019, poner coef=1\n",
    "coef_df['coef'] = coef_df['coef'].fillna(1)\n",
    "\n",
    "# Dejar solo product_id y coef\n",
    "coeficientes = coef_df[['product_id', 'coef']]\n",
    "\n",
    "# Mostrar los primeros coeficientes\n",
    "coeficientes.head()"
   ]
  },
  {
   "cell_type": "code",
   "execution_count": 57,
   "id": "773cbc14",
   "metadata": {},
   "outputs": [
    {
     "data": {
      "text/html": [
       "<div>\n",
       "<style scoped>\n",
       "    .dataframe tbody tr th:only-of-type {\n",
       "        vertical-align: middle;\n",
       "    }\n",
       "\n",
       "    .dataframe tbody tr th {\n",
       "        vertical-align: top;\n",
       "    }\n",
       "\n",
       "    .dataframe thead th {\n",
       "        text-align: right;\n",
       "    }\n",
       "</style>\n",
       "<table border=\"1\" class=\"dataframe\">\n",
       "  <thead>\n",
       "    <tr style=\"text-align: right;\">\n",
       "      <th></th>\n",
       "      <th>product_id</th>\n",
       "      <th>coef</th>\n",
       "    </tr>\n",
       "  </thead>\n",
       "  <tbody>\n",
       "    <tr>\n",
       "      <th>0</th>\n",
       "      <td>20001</td>\n",
       "      <td>1.003874</td>\n",
       "    </tr>\n",
       "    <tr>\n",
       "      <th>1</th>\n",
       "      <td>20002</td>\n",
       "      <td>1.153012</td>\n",
       "    </tr>\n",
       "    <tr>\n",
       "      <th>2</th>\n",
       "      <td>20003</td>\n",
       "      <td>1.049976</td>\n",
       "    </tr>\n",
       "    <tr>\n",
       "      <th>3</th>\n",
       "      <td>20004</td>\n",
       "      <td>0.877397</td>\n",
       "    </tr>\n",
       "    <tr>\n",
       "      <th>4</th>\n",
       "      <td>20005</td>\n",
       "      <td>1.074642</td>\n",
       "    </tr>\n",
       "  </tbody>\n",
       "</table>\n",
       "</div>"
      ],
      "text/plain": [
       "   product_id      coef\n",
       "0       20001  1.003874\n",
       "1       20002  1.153012\n",
       "2       20003  1.049976\n",
       "3       20004  0.877397\n",
       "4       20005  1.074642"
      ]
     },
     "execution_count": 57,
     "metadata": {},
     "output_type": "execute_result"
    }
   ],
   "source": [
    "# 💾 7. Guardar archivo\n",
    "coeficientes.to_csv(\"coeficientes.csv\", index=False)\n",
    "coeficientes.head()"
   ]
  },
  {
   "cell_type": "code",
   "execution_count": 58,
   "id": "059d9f8a",
   "metadata": {},
   "outputs": [
    {
     "data": {
      "text/html": [
       "<div>\n",
       "<style scoped>\n",
       "    .dataframe tbody tr th:only-of-type {\n",
       "        vertical-align: middle;\n",
       "    }\n",
       "\n",
       "    .dataframe tbody tr th {\n",
       "        vertical-align: top;\n",
       "    }\n",
       "\n",
       "    .dataframe thead th {\n",
       "        text-align: right;\n",
       "    }\n",
       "</style>\n",
       "<table border=\"1\" class=\"dataframe\">\n",
       "  <thead>\n",
       "    <tr style=\"text-align: right;\">\n",
       "      <th></th>\n",
       "      <th>product_id</th>\n",
       "      <th>tn</th>\n",
       "    </tr>\n",
       "  </thead>\n",
       "  <tbody>\n",
       "    <tr>\n",
       "      <th>0</th>\n",
       "      <td>20001</td>\n",
       "      <td>1277.140118</td>\n",
       "    </tr>\n",
       "    <tr>\n",
       "      <th>1</th>\n",
       "      <td>20002</td>\n",
       "      <td>982.076050</td>\n",
       "    </tr>\n",
       "    <tr>\n",
       "      <th>2</th>\n",
       "      <td>20003</td>\n",
       "      <td>690.176979</td>\n",
       "    </tr>\n",
       "    <tr>\n",
       "      <th>3</th>\n",
       "      <td>20004</td>\n",
       "      <td>509.674443</td>\n",
       "    </tr>\n",
       "    <tr>\n",
       "      <th>4</th>\n",
       "      <td>20005</td>\n",
       "      <td>541.772269</td>\n",
       "    </tr>\n",
       "  </tbody>\n",
       "</table>\n",
       "</div>"
      ],
      "text/plain": [
       "   product_id           tn\n",
       "0       20001  1277.140118\n",
       "1       20002   982.076050\n",
       "2       20003   690.176979\n",
       "3       20004   509.674443\n",
       "4       20005   541.772269"
      ]
     },
     "execution_count": 58,
     "metadata": {},
     "output_type": "execute_result"
    }
   ],
   "source": [
    "predicciones_febrero2020 = pd.read_csv(\"predicciones_febrero2020_fecha_01_07.csv\")\n",
    "predicciones_febrero2020.head()"
   ]
  },
  {
   "cell_type": "code",
   "execution_count": 59,
   "id": "f9f839b7",
   "metadata": {},
   "outputs": [
    {
     "data": {
      "text/html": [
       "<div>\n",
       "<style scoped>\n",
       "    .dataframe tbody tr th:only-of-type {\n",
       "        vertical-align: middle;\n",
       "    }\n",
       "\n",
       "    .dataframe tbody tr th {\n",
       "        vertical-align: top;\n",
       "    }\n",
       "\n",
       "    .dataframe thead th {\n",
       "        text-align: right;\n",
       "    }\n",
       "</style>\n",
       "<table border=\"1\" class=\"dataframe\">\n",
       "  <thead>\n",
       "    <tr style=\"text-align: right;\">\n",
       "      <th></th>\n",
       "      <th>product_id</th>\n",
       "      <th>tn</th>\n",
       "    </tr>\n",
       "  </thead>\n",
       "  <tbody>\n",
       "    <tr>\n",
       "      <th>0</th>\n",
       "      <td>20001</td>\n",
       "      <td>1282.087199</td>\n",
       "    </tr>\n",
       "    <tr>\n",
       "      <th>1</th>\n",
       "      <td>20002</td>\n",
       "      <td>1132.345054</td>\n",
       "    </tr>\n",
       "    <tr>\n",
       "      <th>2</th>\n",
       "      <td>20003</td>\n",
       "      <td>724.669428</td>\n",
       "    </tr>\n",
       "    <tr>\n",
       "      <th>3</th>\n",
       "      <td>20004</td>\n",
       "      <td>447.186590</td>\n",
       "    </tr>\n",
       "    <tr>\n",
       "      <th>4</th>\n",
       "      <td>20005</td>\n",
       "      <td>582.210971</td>\n",
       "    </tr>\n",
       "  </tbody>\n",
       "</table>\n",
       "</div>"
      ],
      "text/plain": [
       "   product_id           tn\n",
       "0       20001  1282.087199\n",
       "1       20002  1132.345054\n",
       "2       20003   724.669428\n",
       "3       20004   447.186590\n",
       "4       20005   582.210971"
      ]
     },
     "execution_count": 59,
     "metadata": {},
     "output_type": "execute_result"
    }
   ],
   "source": [
    "# Unir predicciones con coeficientes usando product_id\n",
    "predicciones_febrero2020 = predicciones_febrero2020.merge(coeficientes, on='product_id', how='left')\n",
    "\n",
    "# Multiplicar tn por coef (si no hay coef, se asume 1)\n",
    "predicciones_febrero2020['coef'] = predicciones_febrero2020['coef'].fillna(1)\n",
    "predicciones_febrero2020['tn'] = predicciones_febrero2020['tn'] * predicciones_febrero2020['coef']\n",
    "\n",
    "# Eliminar columna coef si no la necesitas más\n",
    "predicciones_febrero2020 = predicciones_febrero2020.drop(columns=['coef'])\n",
    "\n",
    "predicciones_febrero2020.head()"
   ]
  },
  {
   "cell_type": "code",
   "execution_count": 60,
   "id": "b7e3441f",
   "metadata": {},
   "outputs": [],
   "source": [
    "predicciones_febrero2020.to_csv(\"predicciones_febrero2020_ajustadas.csv\", index=False)"
   ]
  },
  {
   "cell_type": "code",
   "execution_count": null,
   "id": "81a9323c",
   "metadata": {},
   "outputs": [],
   "source": [
    "# 💾 7. Guardar archivo\n",
    "resultado.to_csv(\"predicciones_febrero2020_fecha_01_07.csv\", index=False)\n",
    "resultado.head()"
   ]
  },
  {
   "cell_type": "code",
   "execution_count": null,
   "id": "0987ba08",
   "metadata": {},
   "outputs": [],
   "source": [
    "# Mostrar los mejores modelos del predictor\n",
    "print(\"Mejores modelos entrenados:\")\n",
    "print(predictor.leaderboard())"
   ]
  }
 ],
 "metadata": {
  "kernelspec": {
   "display_name": ".venv",
   "language": "python",
   "name": "python3"
  },
  "language_info": {
   "codemirror_mode": {
    "name": "ipython",
    "version": 3
   },
   "file_extension": ".py",
   "mimetype": "text/x-python",
   "name": "python",
   "nbconvert_exporter": "python",
   "pygments_lexer": "ipython3",
   "version": "3.12.3"
  }
 },
 "nbformat": 4,
 "nbformat_minor": 5
}
